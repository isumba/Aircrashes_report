{
 "cells": [
  {
   "cell_type": "markdown",
   "id": "709fccff-fd9a-4e88-bc5b-bb89bcc22403",
   "metadata": {},
   "source": [
    "## Air Crashes Dataset – Exploratory and Descriptive Analysis\n",
    "In this notebook, we carry out an in-depth exploratory and descriptive analysis of the Air Crashes Dataset, a historical record of aircraft accidents involving various aircraft models, operators, and global locations.\n",
    "\n",
    "This phase of analysis is essential for uncovering trends, identifying critical safety factors, and understanding the dataset’s structure before proceeding to modeling or further statistical inference. We examine the distribution of crashes over time, affected regions, aircraft manufacturers, and casualty data. Particular focus is placed on the relationship between crash frequency and time, geographical hotspots, and aircraft types, helping to build a strong foundation for downstream risk assessment and safety policy development."
   ]
  },
  {
   "cell_type": "markdown",
   "id": "c4b11316-a04b-4f34-9aeb-35e853ce1979",
   "metadata": {},
   "source": [
    "We begin our analysis by importing the core Python libraries required for **data handling**, **numerical computation**, **visualization**, and **directory management**:\n",
    "\n",
    "- `pandas`: Enables efficient manipulation, filtering, and aggregation of structured tabular data, forming the backbone of our analysis pipeline.\n",
    "\n",
    "- `numpy`: Provides support for fast numerical operations, array-based computation, and statistical routines.\n",
    "\n",
    "- `os`: Facilitates interaction with the file system, allowing us to construct flexible and portable directory paths for data and output management.\n",
    "\n",
    "- `plotly.express`: A high-level graphing library that enables the creation of interactive, publication-quality visualizations, which we use extensively to uncover patterns and present insights throughout the notebook.\n"
   ]
  },
  {
   "cell_type": "code",
   "execution_count": 99,
   "id": "2fb803e7-f73b-4d32-b658-47e514e8fe70",
   "metadata": {},
   "outputs": [],
   "source": [
    "# Import Libararies\n",
    "import pandas as pd\n",
    "import numpy as np\n",
    "import os\n",
    "import plotly.express as px"
   ]
  },
  {
   "cell_type": "markdown",
   "id": "8732c802-ff18-4982-9877-06ddaa6cda70",
   "metadata": {},
   "source": [
    "\n",
    "## Define and Create Directory Paths\n",
    "\n",
    "To ensure reproducibility and organized storage, we programmatically create directories if they don't already exist for:\n",
    "\n",
    "- **raw data**\n",
    "- **processed data**\n",
    "- **results**\n",
    "- **documentation**\n",
    "  \n",
    "These directories will store intermediate and final outputs for reproducibility\n"
   ]
  },
  {
   "cell_type": "code",
   "execution_count": 100,
   "id": "69339ebf-d2c8-4ae4-87b2-08719dbbee52",
   "metadata": {},
   "outputs": [],
   "source": [
    "# Get working directory\n",
    "current_dir= os.getcwd()\n",
    "# Go one directory up to the root directory\n",
    "project_root_dir= os.path.dirname(current_dir)\n",
    "project_root_dir\n",
    "# Define paths to docs folder\n",
    "data_dir= os.path.join(project_root_dir,'Data')\n",
    "raw_dir= os.path.join(data_dir,'Raw')\n",
    "processed_dir=os.path.join(data_dir,'Processed')\n",
    "results_dir=os.path.join(project_root_dir,'Results')\n",
    "docs_dir=os.path.join(project_root_dir,'Docs')\n",
    "notebook_dir= os.path.join(project_root_dir,'Notebooks')"
   ]
  },
  {
   "cell_type": "markdown",
   "id": "e185975a-7f08-41d7-b7a9-a7e56ca7b2f5",
   "metadata": {},
   "source": [
    "## Loading the Cleaned Dataset\n",
    "We load the cleaned version of the Air Crashes Dataset from the processed data directory into a Pandas DataFrame. The head(10) function shows the first ten records, giving a glimpse into columns such as Year, Country/Region, Aircraft Manufacturer, Operator, and Fatalities."
   ]
  },
  {
   "cell_type": "code",
   "execution_count": 101,
   "id": "d757dbeb-63be-40f0-95c2-6305dcf19e43",
   "metadata": {},
   "outputs": [
    {
     "data": {
      "text/html": [
       "<div>\n",
       "<style scoped>\n",
       "    .dataframe tbody tr th:only-of-type {\n",
       "        vertical-align: middle;\n",
       "    }\n",
       "\n",
       "    .dataframe tbody tr th {\n",
       "        vertical-align: top;\n",
       "    }\n",
       "\n",
       "    .dataframe thead th {\n",
       "        text-align: right;\n",
       "    }\n",
       "</style>\n",
       "<table border=\"1\" class=\"dataframe\">\n",
       "  <thead>\n",
       "    <tr style=\"text-align: right;\">\n",
       "      <th></th>\n",
       "      <th>Year</th>\n",
       "      <th>Quarter</th>\n",
       "      <th>Month</th>\n",
       "      <th>Day</th>\n",
       "      <th>Country/Region</th>\n",
       "      <th>Aircraft Manufacturer</th>\n",
       "      <th>Aircraft</th>\n",
       "      <th>Location</th>\n",
       "      <th>Operator</th>\n",
       "      <th>Sum of Ground</th>\n",
       "      <th>Sum of Fatalities (air)</th>\n",
       "      <th>Sum of Aboard</th>\n",
       "      <th>Month_num</th>\n",
       "      <th>Date</th>\n",
       "    </tr>\n",
       "  </thead>\n",
       "  <tbody>\n",
       "    <tr>\n",
       "      <th>0</th>\n",
       "      <td>1908</td>\n",
       "      <td>Qtr 3</td>\n",
       "      <td>September</td>\n",
       "      <td>17</td>\n",
       "      <td>United States</td>\n",
       "      <td>Wright</td>\n",
       "      <td>Wright Flyer III</td>\n",
       "      <td>virginia</td>\n",
       "      <td>Army U.S. - Military</td>\n",
       "      <td>0</td>\n",
       "      <td>1</td>\n",
       "      <td>2</td>\n",
       "      <td>9</td>\n",
       "      <td>1908-09-17</td>\n",
       "    </tr>\n",
       "    <tr>\n",
       "      <th>1</th>\n",
       "      <td>1909</td>\n",
       "      <td>Qtr 3</td>\n",
       "      <td>September</td>\n",
       "      <td>7</td>\n",
       "      <td>France</td>\n",
       "      <td>Wright</td>\n",
       "      <td>Wright ByplaneSC1</td>\n",
       "      <td>france</td>\n",
       "      <td>Unknown</td>\n",
       "      <td>0</td>\n",
       "      <td>1</td>\n",
       "      <td>1</td>\n",
       "      <td>9</td>\n",
       "      <td>1909-09-07</td>\n",
       "    </tr>\n",
       "    <tr>\n",
       "      <th>2</th>\n",
       "      <td>1912</td>\n",
       "      <td>Qtr 3</td>\n",
       "      <td>July</td>\n",
       "      <td>12</td>\n",
       "      <td>Unknown</td>\n",
       "      <td>Unknown</td>\n",
       "      <td>Dirigible</td>\n",
       "      <td>atlantic</td>\n",
       "      <td>Navy U.S. - JerseyMilitary</td>\n",
       "      <td>0</td>\n",
       "      <td>5</td>\n",
       "      <td>5</td>\n",
       "      <td>7</td>\n",
       "      <td>1912-07-12</td>\n",
       "    </tr>\n",
       "    <tr>\n",
       "      <th>3</th>\n",
       "      <td>1913</td>\n",
       "      <td>Qtr 3</td>\n",
       "      <td>August</td>\n",
       "      <td>6</td>\n",
       "      <td>United Kingdom</td>\n",
       "      <td>Curtiss</td>\n",
       "      <td>Curtiss seaplane</td>\n",
       "      <td>victoria british</td>\n",
       "      <td>Canada          Columbia Private</td>\n",
       "      <td>0</td>\n",
       "      <td>1</td>\n",
       "      <td>1</td>\n",
       "      <td>8</td>\n",
       "      <td>1913-08-06</td>\n",
       "    </tr>\n",
       "    <tr>\n",
       "      <th>4</th>\n",
       "      <td>1913</td>\n",
       "      <td>Qtr 3</td>\n",
       "      <td>September</td>\n",
       "      <td>9</td>\n",
       "      <td>Unknown</td>\n",
       "      <td>Zeppelin</td>\n",
       "      <td>Zeppelin L 1 (airship)</td>\n",
       "      <td>over the north seamilitary - german navy</td>\n",
       "      <td>Unknown</td>\n",
       "      <td>0</td>\n",
       "      <td>14</td>\n",
       "      <td>20</td>\n",
       "      <td>9</td>\n",
       "      <td>1913-09-09</td>\n",
       "    </tr>\n",
       "    <tr>\n",
       "      <th>5</th>\n",
       "      <td>1913</td>\n",
       "      <td>Qtr 4</td>\n",
       "      <td>October</td>\n",
       "      <td>17</td>\n",
       "      <td>Unknown</td>\n",
       "      <td>Zeppelin</td>\n",
       "      <td>Zeppelin L 2 (airship)</td>\n",
       "      <td>near johannisthal germany</td>\n",
       "      <td>Navy German - Military</td>\n",
       "      <td>0</td>\n",
       "      <td>28</td>\n",
       "      <td>28</td>\n",
       "      <td>10</td>\n",
       "      <td>1913-10-17</td>\n",
       "    </tr>\n",
       "    <tr>\n",
       "      <th>6</th>\n",
       "      <td>1915</td>\n",
       "      <td>Qtr 1</td>\n",
       "      <td>March</td>\n",
       "      <td>5</td>\n",
       "      <td>Unknown</td>\n",
       "      <td>Zeppelin</td>\n",
       "      <td>Zeppelin L 8 (airship)</td>\n",
       "      <td>tienen belgium</td>\n",
       "      <td>Navy German - Military</td>\n",
       "      <td>0</td>\n",
       "      <td>17</td>\n",
       "      <td>41</td>\n",
       "      <td>3</td>\n",
       "      <td>1915-03-05</td>\n",
       "    </tr>\n",
       "    <tr>\n",
       "      <th>7</th>\n",
       "      <td>1915</td>\n",
       "      <td>Qtr 3</td>\n",
       "      <td>September</td>\n",
       "      <td>3</td>\n",
       "      <td>Unknown</td>\n",
       "      <td>Zeppelin</td>\n",
       "      <td>Zeppelin L 10 (airship)</td>\n",
       "      <td>off cuxhaven germany</td>\n",
       "      <td>Navy German - Military</td>\n",
       "      <td>0</td>\n",
       "      <td>19</td>\n",
       "      <td>19</td>\n",
       "      <td>9</td>\n",
       "      <td>1915-09-03</td>\n",
       "    </tr>\n",
       "    <tr>\n",
       "      <th>8</th>\n",
       "      <td>1916</td>\n",
       "      <td>Qtr 3</td>\n",
       "      <td>July</td>\n",
       "      <td>28</td>\n",
       "      <td>Bulgaria</td>\n",
       "      <td>Schütte-Lanz</td>\n",
       "      <td>Schutte  Lanz S</td>\n",
       "      <td>near jambol bulgeria</td>\n",
       "      <td>Army German - Military</td>\n",
       "      <td>0</td>\n",
       "      <td>20</td>\n",
       "      <td>20</td>\n",
       "      <td>7</td>\n",
       "      <td>1916-07-28</td>\n",
       "    </tr>\n",
       "    <tr>\n",
       "      <th>9</th>\n",
       "      <td>1916</td>\n",
       "      <td>Qtr 3</td>\n",
       "      <td>September</td>\n",
       "      <td>24</td>\n",
       "      <td>Unknown</td>\n",
       "      <td>Zeppelin</td>\n",
       "      <td>Zeppelin L 32 (airship)</td>\n",
       "      <td>billericay england</td>\n",
       "      <td>Navy German - Military</td>\n",
       "      <td>0</td>\n",
       "      <td>22</td>\n",
       "      <td>22</td>\n",
       "      <td>9</td>\n",
       "      <td>1916-09-24</td>\n",
       "    </tr>\n",
       "  </tbody>\n",
       "</table>\n",
       "</div>"
      ],
      "text/plain": [
       "   Year Quarter      Month  Day  Country/Region Aircraft Manufacturer  \\\n",
       "0  1908   Qtr 3  September   17   United States                Wright   \n",
       "1  1909   Qtr 3  September    7          France                Wright   \n",
       "2  1912   Qtr 3       July   12         Unknown               Unknown   \n",
       "3  1913   Qtr 3     August    6  United Kingdom               Curtiss   \n",
       "4  1913   Qtr 3  September    9         Unknown              Zeppelin   \n",
       "5  1913   Qtr 4    October   17         Unknown              Zeppelin   \n",
       "6  1915   Qtr 1      March    5         Unknown              Zeppelin   \n",
       "7  1915   Qtr 3  September    3         Unknown              Zeppelin   \n",
       "8  1916   Qtr 3       July   28        Bulgaria          Schütte-Lanz   \n",
       "9  1916   Qtr 3  September   24         Unknown              Zeppelin   \n",
       "\n",
       "                  Aircraft                                  Location  \\\n",
       "0         Wright Flyer III                                  virginia   \n",
       "1        Wright ByplaneSC1                                    france   \n",
       "2                Dirigible                                  atlantic   \n",
       "3         Curtiss seaplane                          victoria british   \n",
       "4   Zeppelin L 1 (airship)  over the north seamilitary - german navy   \n",
       "5   Zeppelin L 2 (airship)                 near johannisthal germany   \n",
       "6   Zeppelin L 8 (airship)                            tienen belgium   \n",
       "7  Zeppelin L 10 (airship)                      off cuxhaven germany   \n",
       "8          Schutte  Lanz S                      near jambol bulgeria   \n",
       "9  Zeppelin L 32 (airship)                        billericay england   \n",
       "\n",
       "                           Operator  Sum of Ground  Sum of Fatalities (air)  \\\n",
       "0              Army U.S. - Military              0                        1   \n",
       "1                           Unknown              0                        1   \n",
       "2        Navy U.S. - JerseyMilitary              0                        5   \n",
       "3  Canada          Columbia Private              0                        1   \n",
       "4                           Unknown              0                       14   \n",
       "5            Navy German - Military              0                       28   \n",
       "6            Navy German - Military              0                       17   \n",
       "7            Navy German - Military              0                       19   \n",
       "8            Army German - Military              0                       20   \n",
       "9            Navy German - Military              0                       22   \n",
       "\n",
       "   Sum of Aboard  Month_num        Date  \n",
       "0              2          9  1908-09-17  \n",
       "1              1          9  1909-09-07  \n",
       "2              5          7  1912-07-12  \n",
       "3              1          8  1913-08-06  \n",
       "4             20          9  1913-09-09  \n",
       "5             28         10  1913-10-17  \n",
       "6             41          3  1915-03-05  \n",
       "7             19          9  1915-09-03  \n",
       "8             20          7  1916-07-28  \n",
       "9             22          9  1916-09-24  "
      ]
     },
     "execution_count": 101,
     "metadata": {},
     "output_type": "execute_result"
    }
   ],
   "source": [
    "df = pd.read_csv(r\"C:\\Users\\user\\Documents\\Tekher\\NEW CRASHES\\Aircrashes_report\\Data\\processed\\Aircrash_file cleaned.csv\"\n",
    "                         , header=0)\n",
    "df.head(10)"
   ]
  },
  {
   "cell_type": "markdown",
   "id": "58c548f7-1fca-4725-9318-77b1c4686ae6",
   "metadata": {},
   "source": [
    "## Dataset Dimensions and Data Types\n",
    "Here, we examine the structure of the dataset:\n",
    "\n",
    "There are 5,030 entries and 14 variables.\n",
    "The dataset includes both numerical (e.g., Year, Fatalities) and categorical variables (e.g., Country/Region, Aircraft Manufacturer, Operator)."
   ]
  },
  {
   "cell_type": "markdown",
   "id": "23126139-bb06-485b-816c-f3810e86f0d2",
   "metadata": {},
   "source": [
    "Understanding data types and null entries is essential before proceeding with analysis."
   ]
  },
  {
   "cell_type": "code",
   "execution_count": 102,
   "id": "5664a5fc-94bc-42fc-ba4a-ae8ab4d2f7e1",
   "metadata": {},
   "outputs": [
    {
     "data": {
      "text/plain": [
       "(5030, 14)"
      ]
     },
     "execution_count": 102,
     "metadata": {},
     "output_type": "execute_result"
    }
   ],
   "source": [
    "df.shape"
   ]
  },
  {
   "cell_type": "code",
   "execution_count": 103,
   "id": "6ef60f7d-e2f1-49fe-80f3-a0af1ce02c66",
   "metadata": {},
   "outputs": [
    {
     "name": "stdout",
     "output_type": "stream",
     "text": [
      "<class 'pandas.core.frame.DataFrame'>\n",
      "RangeIndex: 5030 entries, 0 to 5029\n",
      "Data columns (total 14 columns):\n",
      " #   Column                   Non-Null Count  Dtype \n",
      "---  ------                   --------------  ----- \n",
      " 0   Year                     5030 non-null   int64 \n",
      " 1   Quarter                  5030 non-null   object\n",
      " 2   Month                    5030 non-null   object\n",
      " 3   Day                      5030 non-null   int64 \n",
      " 4   Country/Region           5030 non-null   object\n",
      " 5   Aircraft Manufacturer    5030 non-null   object\n",
      " 6   Aircraft                 5020 non-null   object\n",
      " 7   Location                 5030 non-null   object\n",
      " 8   Operator                 5030 non-null   object\n",
      " 9   Sum of Ground            5030 non-null   int64 \n",
      " 10  Sum of Fatalities (air)  5030 non-null   int64 \n",
      " 11  Sum of Aboard            5030 non-null   int64 \n",
      " 12  Month_num                5030 non-null   int64 \n",
      " 13  Date                     5030 non-null   object\n",
      "dtypes: int64(6), object(8)\n",
      "memory usage: 550.3+ KB\n"
     ]
    }
   ],
   "source": [
    "df.info()"
   ]
  },
  {
   "cell_type": "markdown",
   "id": "cbb3f529-5bc1-435a-811d-0425a72eeace",
   "metadata": {},
   "source": [
    "## Summary Statistics: Numerical Variables"
   ]
  },
  {
   "cell_type": "code",
   "execution_count": 104,
   "id": "84989f17-bdee-4dcb-a839-aad09195001c",
   "metadata": {},
   "outputs": [
    {
     "data": {
      "text/html": [
       "<div>\n",
       "<style scoped>\n",
       "    .dataframe tbody tr th:only-of-type {\n",
       "        vertical-align: middle;\n",
       "    }\n",
       "\n",
       "    .dataframe tbody tr th {\n",
       "        vertical-align: top;\n",
       "    }\n",
       "\n",
       "    .dataframe thead th {\n",
       "        text-align: right;\n",
       "    }\n",
       "</style>\n",
       "<table border=\"1\" class=\"dataframe\">\n",
       "  <thead>\n",
       "    <tr style=\"text-align: right;\">\n",
       "      <th></th>\n",
       "      <th>Year</th>\n",
       "      <th>Day</th>\n",
       "      <th>Sum of Ground</th>\n",
       "      <th>Sum of Fatalities (air)</th>\n",
       "      <th>Sum of Aboard</th>\n",
       "      <th>Month_num</th>\n",
       "    </tr>\n",
       "  </thead>\n",
       "  <tbody>\n",
       "    <tr>\n",
       "      <th>count</th>\n",
       "      <td>5030.000000</td>\n",
       "      <td>5030.000000</td>\n",
       "      <td>5030.000000</td>\n",
       "      <td>5030.000000</td>\n",
       "      <td>5030.000000</td>\n",
       "      <td>5030.000000</td>\n",
       "    </tr>\n",
       "    <tr>\n",
       "      <th>mean</th>\n",
       "      <td>1970.938370</td>\n",
       "      <td>15.783499</td>\n",
       "      <td>1.706163</td>\n",
       "      <td>22.237972</td>\n",
       "      <td>31.013519</td>\n",
       "      <td>6.694433</td>\n",
       "    </tr>\n",
       "    <tr>\n",
       "      <th>std</th>\n",
       "      <td>24.770415</td>\n",
       "      <td>8.795157</td>\n",
       "      <td>55.132476</td>\n",
       "      <td>34.960979</td>\n",
       "      <td>45.399504</td>\n",
       "      <td>3.530774</td>\n",
       "    </tr>\n",
       "    <tr>\n",
       "      <th>min</th>\n",
       "      <td>1908.000000</td>\n",
       "      <td>1.000000</td>\n",
       "      <td>0.000000</td>\n",
       "      <td>0.000000</td>\n",
       "      <td>0.000000</td>\n",
       "      <td>1.000000</td>\n",
       "    </tr>\n",
       "    <tr>\n",
       "      <th>25%</th>\n",
       "      <td>1951.000000</td>\n",
       "      <td>8.000000</td>\n",
       "      <td>0.000000</td>\n",
       "      <td>4.000000</td>\n",
       "      <td>7.000000</td>\n",
       "      <td>4.000000</td>\n",
       "    </tr>\n",
       "    <tr>\n",
       "      <th>50%</th>\n",
       "      <td>1970.000000</td>\n",
       "      <td>16.000000</td>\n",
       "      <td>0.000000</td>\n",
       "      <td>11.000000</td>\n",
       "      <td>16.000000</td>\n",
       "      <td>7.000000</td>\n",
       "    </tr>\n",
       "    <tr>\n",
       "      <th>75%</th>\n",
       "      <td>1992.000000</td>\n",
       "      <td>23.000000</td>\n",
       "      <td>0.000000</td>\n",
       "      <td>25.000000</td>\n",
       "      <td>34.000000</td>\n",
       "      <td>10.000000</td>\n",
       "    </tr>\n",
       "    <tr>\n",
       "      <th>max</th>\n",
       "      <td>2023.000000</td>\n",
       "      <td>31.000000</td>\n",
       "      <td>2750.000000</td>\n",
       "      <td>583.000000</td>\n",
       "      <td>644.000000</td>\n",
       "      <td>12.000000</td>\n",
       "    </tr>\n",
       "  </tbody>\n",
       "</table>\n",
       "</div>"
      ],
      "text/plain": [
       "              Year          Day  Sum of Ground  Sum of Fatalities (air)  \\\n",
       "count  5030.000000  5030.000000    5030.000000              5030.000000   \n",
       "mean   1970.938370    15.783499       1.706163                22.237972   \n",
       "std      24.770415     8.795157      55.132476                34.960979   \n",
       "min    1908.000000     1.000000       0.000000                 0.000000   \n",
       "25%    1951.000000     8.000000       0.000000                 4.000000   \n",
       "50%    1970.000000    16.000000       0.000000                11.000000   \n",
       "75%    1992.000000    23.000000       0.000000                25.000000   \n",
       "max    2023.000000    31.000000    2750.000000               583.000000   \n",
       "\n",
       "       Sum of Aboard    Month_num  \n",
       "count    5030.000000  5030.000000  \n",
       "mean       31.013519     6.694433  \n",
       "std        45.399504     3.530774  \n",
       "min         0.000000     1.000000  \n",
       "25%         7.000000     4.000000  \n",
       "50%        16.000000     7.000000  \n",
       "75%        34.000000    10.000000  \n",
       "max       644.000000    12.000000  "
      ]
     },
     "execution_count": 104,
     "metadata": {},
     "output_type": "execute_result"
    }
   ],
   "source": [
    "df.describe()"
   ]
  },
  {
   "cell_type": "markdown",
   "id": "dccb6166-0619-4794-8aad-9588a5a99a0a",
   "metadata": {},
   "source": [
    "## This summary provides a snapshot of key distribution characteristics. We observe that:\n",
    "\n",
    "Year ranges from 1908 to 2023, with a mean around 1970.9. The data spans over a century, reflecting a wide historical coverage of air crash incidents globally. The median year is 1970, showing a relatively balanced distribution across time with slightly more recent records.\n",
    "\n",
    "Sum of Fatalities (air) shows a wide range, with the maximum reaching 583. The median is 11, and the mean is around 22.2. This indicates a highly skewed distribution where most crashes involve a small number of fatalities, but a few major accidents result in high fatality counts.\n",
    "\n",
    "Sum of Ground fatalities is mostly 0, with a very high standard deviation due to rare but extremely deadly incidents (max = 2750). The 25th, 50th, and 75th percentiles are all 0, showing that in most cases, no fatalities occurred on the ground.\n",
    "\n",
    "Sum of Aboard ranges from 0 to 644, with a mean of 31 and median of 16. This implies that most aircraft involved were small to mid-sized, though large passenger aircraft are also present in the dataset.\n",
    "\n",
    "Day of the month ranges from 1 to 31 with no significant skew, indicating a fairly uniform distribution of accidents throughout the month.\n",
    "\n",
    "Month_num ranges from 1 (January) to 12 (December), with a median of 7, suggesting crashes are relatively balanced across months, though further analysis could reveal seasonal trends."
   ]
  },
  {
   "cell_type": "markdown",
   "id": "c550c75f-1aa0-44bd-88b1-aff3ffd89a51",
   "metadata": {},
   "source": [
    "## Summary Statistics: Categorical Variables"
   ]
  },
  {
   "cell_type": "code",
   "execution_count": 105,
   "id": "ff93ee90-7f3c-4093-bf6c-9d35ae9af69b",
   "metadata": {},
   "outputs": [
    {
     "data": {
      "text/html": [
       "<div>\n",
       "<style scoped>\n",
       "    .dataframe tbody tr th:only-of-type {\n",
       "        vertical-align: middle;\n",
       "    }\n",
       "\n",
       "    .dataframe tbody tr th {\n",
       "        vertical-align: top;\n",
       "    }\n",
       "\n",
       "    .dataframe thead th {\n",
       "        text-align: right;\n",
       "    }\n",
       "</style>\n",
       "<table border=\"1\" class=\"dataframe\">\n",
       "  <thead>\n",
       "    <tr style=\"text-align: right;\">\n",
       "      <th></th>\n",
       "      <th>Quarter</th>\n",
       "      <th>Month</th>\n",
       "      <th>Country/Region</th>\n",
       "      <th>Aircraft Manufacturer</th>\n",
       "      <th>Aircraft</th>\n",
       "      <th>Location</th>\n",
       "      <th>Operator</th>\n",
       "      <th>Date</th>\n",
       "    </tr>\n",
       "  </thead>\n",
       "  <tbody>\n",
       "    <tr>\n",
       "      <th>count</th>\n",
       "      <td>5030</td>\n",
       "      <td>5030</td>\n",
       "      <td>5030</td>\n",
       "      <td>5030</td>\n",
       "      <td>5020</td>\n",
       "      <td>5030</td>\n",
       "      <td>5030</td>\n",
       "      <td>5030</td>\n",
       "    </tr>\n",
       "    <tr>\n",
       "      <th>unique</th>\n",
       "      <td>4</td>\n",
       "      <td>12</td>\n",
       "      <td>60</td>\n",
       "      <td>285</td>\n",
       "      <td>3510</td>\n",
       "      <td>4165</td>\n",
       "      <td>2625</td>\n",
       "      <td>4598</td>\n",
       "    </tr>\n",
       "    <tr>\n",
       "      <th>top</th>\n",
       "      <td>Qtr 4</td>\n",
       "      <td>December</td>\n",
       "      <td>Unknown</td>\n",
       "      <td>Douglas</td>\n",
       "      <td>Boeing B 737</td>\n",
       "      <td>moscow russia</td>\n",
       "      <td>Unknown</td>\n",
       "      <td>2001-09-11</td>\n",
       "    </tr>\n",
       "    <tr>\n",
       "      <th>freq</th>\n",
       "      <td>1368</td>\n",
       "      <td>497</td>\n",
       "      <td>3547</td>\n",
       "      <td>995</td>\n",
       "      <td>73</td>\n",
       "      <td>16</td>\n",
       "      <td>234</td>\n",
       "      <td>4</td>\n",
       "    </tr>\n",
       "  </tbody>\n",
       "</table>\n",
       "</div>"
      ],
      "text/plain": [
       "       Quarter     Month Country/Region Aircraft Manufacturer      Aircraft  \\\n",
       "count     5030      5030           5030                  5030          5020   \n",
       "unique       4        12             60                   285          3510   \n",
       "top      Qtr 4  December        Unknown               Douglas  Boeing B 737   \n",
       "freq      1368       497           3547                   995            73   \n",
       "\n",
       "             Location Operator        Date  \n",
       "count            5030     5030        5030  \n",
       "unique           4165     2625        4598  \n",
       "top     moscow russia  Unknown  2001-09-11  \n",
       "freq               16      234           4  "
      ]
     },
     "execution_count": 105,
     "metadata": {},
     "output_type": "execute_result"
    }
   ],
   "source": [
    "df.describe(include='object')"
   ]
  },
  {
   "cell_type": "code",
   "execution_count": 106,
   "id": "9ca2d80c-ace9-434b-9af4-97a9691f95fe",
   "metadata": {},
   "outputs": [
    {
     "data": {
      "text/plain": [
       "Year\n",
       "1946    0.017495\n",
       "1989    0.016501\n",
       "1947    0.016302\n",
       "1962    0.015706\n",
       "1948    0.015507\n",
       "          ...   \n",
       "2023    0.000398\n",
       "1915    0.000398\n",
       "1909    0.000199\n",
       "1912    0.000199\n",
       "1908    0.000199\n",
       "Name: proportion, Length: 113, dtype: float64"
      ]
     },
     "execution_count": 106,
     "metadata": {},
     "output_type": "execute_result"
    }
   ],
   "source": [
    "df['Year'].value_counts(normalize=True)"
   ]
  },
  {
   "cell_type": "code",
   "execution_count": 107,
   "id": "9beb3929-197c-4c89-8678-03b72e7a0b5b",
   "metadata": {},
   "outputs": [
    {
     "data": {
      "text/plain": [
       "Quarter\n",
       "Qtr 4    0.271968\n",
       "Qtr 3    0.265010\n",
       "Qtr 1    0.249105\n",
       "Qtr 2    0.213917\n",
       "Name: proportion, dtype: float64"
      ]
     },
     "execution_count": 107,
     "metadata": {},
     "output_type": "execute_result"
    }
   ],
   "source": [
    "df['Quarter'].value_counts(normalize=True)"
   ]
  },
  {
   "cell_type": "code",
   "execution_count": 108,
   "id": "0fafda07-b1f7-4822-adb6-d5c053656714",
   "metadata": {},
   "outputs": [
    {
     "data": {
      "text/plain": [
       "Month\n",
       "December     0.098807\n",
       "January      0.092247\n",
       "September    0.090060\n",
       "August       0.089861\n",
       "November     0.088072\n",
       "July         0.085089\n",
       "October      0.085089\n",
       "March        0.084891\n",
       "June         0.072962\n",
       "February     0.071968\n",
       "May          0.071571\n",
       "April        0.069384\n",
       "Name: proportion, dtype: float64"
      ]
     },
     "execution_count": 108,
     "metadata": {},
     "output_type": "execute_result"
    }
   ],
   "source": [
    "df['Month'].value_counts(normalize=True)"
   ]
  },
  {
   "cell_type": "code",
   "execution_count": 109,
   "id": "d5ac25f5-e4c1-4249-a09c-b7b3ffea94fb",
   "metadata": {},
   "outputs": [
    {
     "data": {
      "text/plain": [
       "Day\n",
       "8     0.036779\n",
       "15    0.036183\n",
       "24    0.035388\n",
       "27    0.035189\n",
       "10    0.034990\n",
       "14    0.034592\n",
       "9     0.034394\n",
       "2     0.034394\n",
       "11    0.034195\n",
       "3     0.034195\n",
       "21    0.034195\n",
       "22    0.033400\n",
       "6     0.033002\n",
       "17    0.032803\n",
       "12    0.032803\n",
       "18    0.032406\n",
       "4     0.032207\n",
       "20    0.031610\n",
       "29    0.031213\n",
       "26    0.031213\n",
       "16    0.031014\n",
       "19    0.031014\n",
       "23    0.030815\n",
       "28    0.030417\n",
       "25    0.030417\n",
       "13    0.030417\n",
       "5     0.029821\n",
       "30    0.029821\n",
       "7     0.029026\n",
       "1     0.029026\n",
       "31    0.023062\n",
       "Name: proportion, dtype: float64"
      ]
     },
     "execution_count": 109,
     "metadata": {},
     "output_type": "execute_result"
    }
   ],
   "source": [
    "df['Day'].value_counts(normalize=True)"
   ]
  },
  {
   "cell_type": "code",
   "execution_count": 110,
   "id": "114c51d6-bc23-4361-b493-c287d8baf051",
   "metadata": {},
   "outputs": [
    {
     "data": {
      "text/plain": [
       "Country/Region\n",
       "Unknown                     0.705169\n",
       "United States               0.161630\n",
       "Brazil                      0.032803\n",
       "India                       0.023658\n",
       "China                       0.018091\n",
       "Canada                      0.014911\n",
       "Spain                       0.012525\n",
       "United Kingdom              0.008946\n",
       "Serbia                      0.002386\n",
       "Portugal                    0.001590\n",
       "Italy                       0.001392\n",
       "France                      0.001392\n",
       "Japan                       0.001392\n",
       "Indonesia                   0.001193\n",
       "Australia                   0.000994\n",
       "Philippines                 0.000795\n",
       "Mexico                      0.000795\n",
       "Malaysia                    0.000398\n",
       "Colombia                    0.000398\n",
       "Argentina                   0.000398\n",
       "Cameroon                    0.000398\n",
       "Zimbabwe                    0.000398\n",
       "Sweden                      0.000398\n",
       "Netherlands                 0.000398\n",
       "Bulgaria                    0.000398\n",
       "Germany                     0.000398\n",
       "Croatia                     0.000199\n",
       "Suriname                    0.000199\n",
       "Saudi Arabia                0.000199\n",
       "Mauritania                  0.000199\n",
       "Djibouti                    0.000199\n",
       "Ecuador                     0.000199\n",
       "Antigua and Barbuda         0.000199\n",
       "Sierra Leone                0.000199\n",
       "Dominican Republic          0.000199\n",
       "Nepal                       0.000199\n",
       "Morocco                     0.000199\n",
       "Cook Islands                0.000199\n",
       "Cuba                        0.000199\n",
       "Myanmar                     0.000199\n",
       "Kyrgyzstan                  0.000199\n",
       "Haiti                       0.000199\n",
       "Jamaica                     0.000199\n",
       "Hungary                     0.000199\n",
       "Northern Mariana Islands    0.000199\n",
       "Romania                     0.000199\n",
       "Honduras                    0.000199\n",
       "Kiribati                    0.000199\n",
       "Cocos (Keeling) Islands     0.000199\n",
       "Costa Rica                  0.000199\n",
       "Marshall Islands            0.000199\n",
       "Bangladesh                  0.000199\n",
       "Cambodia                    0.000199\n",
       "Switzerland                 0.000199\n",
       "Finland                     0.000199\n",
       "Madagascar                  0.000199\n",
       "Nigeria                     0.000199\n",
       "Peru                        0.000199\n",
       "French Polynesia            0.000199\n",
       "Namibia                     0.000199\n",
       "Name: proportion, dtype: float64"
      ]
     },
     "execution_count": 110,
     "metadata": {},
     "output_type": "execute_result"
    }
   ],
   "source": [
    "df['Country/Region'].value_counts(normalize=True)"
   ]
  },
  {
   "cell_type": "code",
   "execution_count": 111,
   "id": "f204df93-4d5f-4bb1-b4b1-60c4eda45ad0",
   "metadata": {},
   "outputs": [
    {
     "data": {
      "text/plain": [
       "Aircraft Manufacturer\n",
       "Douglas                0.197813\n",
       "Boeing                 0.080915\n",
       "Lockheed               0.065408\n",
       "De Havilland           0.058648\n",
       "Antonov                0.057256\n",
       "                         ...   \n",
       "Volpar                 0.000199\n",
       "Britten-Norman         0.000199\n",
       "Cant                   0.000199\n",
       "De Havilland Canada    0.000199\n",
       "Socata                 0.000199\n",
       "Name: proportion, Length: 285, dtype: float64"
      ]
     },
     "execution_count": 111,
     "metadata": {},
     "output_type": "execute_result"
    }
   ],
   "source": [
    "df['Aircraft Manufacturer'].value_counts(normalize=True)"
   ]
  },
  {
   "cell_type": "code",
   "execution_count": 112,
   "id": "9849529b-4e0b-46e4-9be3-bee50c420fcb",
   "metadata": {},
   "outputs": [
    {
     "data": {
      "text/plain": [
       "Aircraft\n",
       "Boeing B 737                       0.014542\n",
       "Boeing B 727                       0.011355\n",
       "Boeing B 707                       0.010159\n",
       "McDonnell Douglas DC 9             0.008367\n",
       "Douglas C 47A                      0.007968\n",
       "                                     ...   \n",
       "Lockheed 18 LodestarN300E          0.000199\n",
       "Douglas DC 7                       0.000199\n",
       "Douglas C 124C / Fairchild C       0.000199\n",
       "Junkers JU 52/3mHC                 0.000199\n",
       "Embraer EMB 110P1 BandeirantePT    0.000199\n",
       "Name: proportion, Length: 3510, dtype: float64"
      ]
     },
     "execution_count": 112,
     "metadata": {},
     "output_type": "execute_result"
    }
   ],
   "source": [
    "df['Aircraft'].value_counts(normalize=True)"
   ]
  },
  {
   "cell_type": "code",
   "execution_count": 113,
   "id": "45857efa-8525-4c38-ae7c-db96eff72ef3",
   "metadata": {},
   "outputs": [
    {
     "data": {
      "text/plain": [
       "Location\n",
       "moscow russia                        0.003181\n",
       "manila philippines                   0.002982\n",
       "new york new                         0.002982\n",
       "cairo egypt                          0.002584\n",
       "sao paulo brazil                     0.002584\n",
       "                                       ...   \n",
       "nantucket massachusetts              0.000199\n",
       "near chita russia                    0.000199\n",
       "off guammilitary - u.s. air force    0.000199\n",
       "sasnashen russia                     0.000199\n",
       "brazil                               0.000199\n",
       "Name: proportion, Length: 4165, dtype: float64"
      ]
     },
     "execution_count": 113,
     "metadata": {},
     "output_type": "execute_result"
    }
   ],
   "source": [
    "df['Location'].value_counts(normalize=True)"
   ]
  },
  {
   "cell_type": "code",
   "execution_count": 114,
   "id": "60c85ca1-efa5-4bae-ae73-b2cf1bc739f5",
   "metadata": {},
   "outputs": [
    {
     "data": {
      "text/plain": [
       "Operator\n",
       "Unknown                                    0.046521\n",
       "Aeroflot                                   0.037376\n",
       "Force Air U.S. - Military                  0.018290\n",
       "France Air                                 0.011332\n",
       "Lufthansa Deutsche                         0.011332\n",
       "                                             ...   \n",
       "Airlines SamoaPolynesian                   0.000199\n",
       "Air Laos                                   0.000199\n",
       "New York          Falls Mohawk Airlines    0.000199\n",
       "Canada Austin Airways                      0.000199\n",
       "Aerotaxi Manaus                            0.000199\n",
       "Name: proportion, Length: 2625, dtype: float64"
      ]
     },
     "execution_count": 114,
     "metadata": {},
     "output_type": "execute_result"
    }
   ],
   "source": [
    "df['Operator'].value_counts(normalize=True)"
   ]
  },
  {
   "cell_type": "code",
   "execution_count": 115,
   "id": "c7a17532-865e-42b7-804d-6023ac9b9016",
   "metadata": {},
   "outputs": [
    {
     "data": {
      "text/plain": [
       "Sum of Ground\n",
       "0       0.949901\n",
       "1       0.012326\n",
       "2       0.007157\n",
       "3       0.004374\n",
       "4       0.003181\n",
       "5       0.002386\n",
       "7       0.001988\n",
       "8       0.001789\n",
       "6       0.001193\n",
       "10      0.001193\n",
       "14      0.000994\n",
       "11      0.000795\n",
       "13      0.000795\n",
       "12      0.000795\n",
       "19      0.000795\n",
       "44      0.000795\n",
       "22      0.000795\n",
       "24      0.000596\n",
       "20      0.000596\n",
       "35      0.000398\n",
       "25      0.000398\n",
       "125     0.000398\n",
       "15      0.000398\n",
       "30      0.000398\n",
       "37      0.000398\n",
       "2750    0.000398\n",
       "32      0.000199\n",
       "45      0.000199\n",
       "39      0.000199\n",
       "18      0.000199\n",
       "225     0.000199\n",
       "49      0.000199\n",
       "9       0.000199\n",
       "78      0.000199\n",
       "40      0.000199\n",
       "50      0.000199\n",
       "31      0.000199\n",
       "113     0.000199\n",
       "71      0.000199\n",
       "33      0.000199\n",
       "23      0.000199\n",
       "87      0.000199\n",
       "17      0.000199\n",
       "29      0.000199\n",
       "16      0.000199\n",
       "36      0.000199\n",
       "58      0.000199\n",
       "63      0.000199\n",
       "53      0.000199\n",
       "85      0.000199\n",
       "Name: proportion, dtype: float64"
      ]
     },
     "execution_count": 115,
     "metadata": {},
     "output_type": "execute_result"
    }
   ],
   "source": [
    "df['Sum of Ground'].value_counts(normalize=True)"
   ]
  },
  {
   "cell_type": "code",
   "execution_count": 116,
   "id": "a68f19fc-759e-4bc6-99a4-f18f5ecda0fe",
   "metadata": {},
   "outputs": [
    {
     "data": {
      "text/plain": [
       "Sum of Fatalities (air)\n",
       "1      0.076342\n",
       "2      0.075149\n",
       "3      0.072565\n",
       "4      0.048708\n",
       "5      0.046918\n",
       "         ...   \n",
       "259    0.000199\n",
       "144    0.000199\n",
       "171    0.000199\n",
       "223    0.000199\n",
       "224    0.000199\n",
       "Name: proportion, Length: 199, dtype: float64"
      ]
     },
     "execution_count": 116,
     "metadata": {},
     "output_type": "execute_result"
    }
   ],
   "source": [
    "df['Sum of Fatalities (air)'].value_counts(normalize=True)"
   ]
  },
  {
   "cell_type": "code",
   "execution_count": 117,
   "id": "ac248d43-483b-4fd6-822c-02c296018add",
   "metadata": {},
   "outputs": [
    {
     "data": {
      "text/plain": [
       "Sum of Aboard\n",
       "3      0.055666\n",
       "2      0.048907\n",
       "4      0.040557\n",
       "5      0.037972\n",
       "10     0.035785\n",
       "         ...   \n",
       "356    0.000199\n",
       "258    0.000199\n",
       "259    0.000199\n",
       "290    0.000199\n",
       "190    0.000199\n",
       "Name: proportion, Length: 244, dtype: float64"
      ]
     },
     "execution_count": 117,
     "metadata": {},
     "output_type": "execute_result"
    }
   ],
   "source": [
    "df['Sum of Aboard'].value_counts(normalize=True)"
   ]
  },
  {
   "cell_type": "markdown",
   "id": "28fe3465-fdfd-46e8-8ad4-08ac9ce938fb",
   "metadata": {},
   "source": [
    "Year\n",
    "\n",
    "Accidents span over a century, with noticeable peaks in the mid-1900s. The year 1946 holds the highest share of crashes (~1.75%), followed closely by 1989 and 1947. Earlier years (like 1908–1915) represent a very small fraction, reflecting limited aviation activity at the time.\n",
    "\n",
    "Quarter\n",
    "\n",
    "Crashes are slightly more common in the fourth quarter (27.2%) and third quarter (26.5%), suggesting seasonal patterns — possibly linked to weather conditions or travel demand. The second quarter has the fewest incidents (21.4%).\n",
    "\n",
    "Month\n",
    "\n",
    "December has the highest occurrence of air crashes (9.9%), followed by January and September. April and May see the least, each under 7.2%. This distribution may align with operational pressures or climatic changes across months.\n",
    "\n",
    "Day of the Month\n",
    "\n",
    "Crashes are relatively well spread across the month. The 8th, 15th, and 24th show slightly higher frequencies (~3.5% each), while the 31st records the fewest, likely due to fewer months including that date.\n",
    "\n",
    "Country/Region\n",
    "\n",
    "A significant majority of incidents (~70.5%) have unknown locations. Among known countries, the United States dominates (16.2%), followed by Brazil (3.3%) and India (2.4%). Other nations appear in much smaller proportions, reflecting either data incompleteness or global aviation distribution.\n",
    "\n",
    "Aircraft Manufacturer\n",
    "\n",
    "Douglas aircraft are most commonly involved (19.8%), followed by Boeing (8.1%), Lockheed (6.5%), and De Havilland (5.9%). Over 280 manufacturers appear, but most contribute marginally to the total crash count.\n",
    "\n",
    "Aircraft\n",
    "\n",
    "The Boeing 737 is the most frequently appearing aircraft model (~1.45%), with the Boeing 727 and 707 also in the top ranks. Many aircraft types appear only once or twice in the dataset, showcasing a long-tail distribution of aircraft diversity.\n",
    "\n",
    "Location\n",
    "\n",
    "Most locations are unique, but a few hotspots such as Moscow, Manila, and New York show slightly higher recurrence. These urban or high-traffic areas may reflect denser airspace or data coverage patterns.\n",
    "\n",
    "Operator\n",
    "\n",
    "The majority of crashes involve a wide variety of operators. “Unknown” accounts for 4.6%, while Aeroflot (3.7%) and the U.S. Air Force (1.8%) are the most frequent named operators. Over 2,600 unique operator names highlight the diversity in commercial, military, and private aviation.\n",
    "\n",
    "Sum of Ground Fatalities\n",
    "\n",
    "Nearly 95% of crash records show zero ground fatalities. However, rare but extreme events like one with 2,750 ground deaths skew the distribution. Only a handful of crashes caused fatalities on the ground.\n",
    "\n",
    "Sum of Air Fatalities\n",
    "\n",
    "Fatalities in crashes are heavily concentrated in small numbers — 1 to 4 deaths cover a significant share. Very high fatality counts are rare, though they highlight catastrophic events with over 200 deaths in some cases.\n",
    "\n",
    "Sum of Aboard\n",
    "\n",
    "Most crashes involved aircraft with fewer than 10 people aboard. Still, a long tail exists, with some aircraft carrying over 300 passengers. The most common aboard counts are between 2 and 10, suggesting many crashes involve small to mid-size aircraft."
   ]
  },
  {
   "cell_type": "code",
   "execution_count": 118,
   "id": "dd79d247-e5c2-4920-b7e6-a0b1dd276ae2",
   "metadata": {},
   "outputs": [],
   "source": [
    "import os\n",
    "\n",
    "# Define the directory where results will be saved\n",
    "result_dir = r\"C:\\Users\\user\\Documents\\Tekher\\NEW CRASHES\\Aircrashes_report\\result\"\n",
    "\n",
    "# Make sure the folder exists, if not create it\n",
    "os.makedirs(result_dir, exist_ok=True)"
   ]
  },
  {
   "cell_type": "code",
   "execution_count": 119,
   "id": "2712e23c-1f4a-472f-85db-f3d95ca5eaa5",
   "metadata": {},
   "outputs": [
    {
     "data": {
      "application/vnd.plotly.v1+json": {
       "config": {
        "plotlyServerURL": "https://plot.ly"
       },
       "data": [
        {
         "domain": {
          "x": [
           0,
           0.2888888888888889
          ],
          "y": [
           0,
           1
          ]
         },
         "mode": "number",
         "title": {
          "text": "Unique Aircrafts"
         },
         "type": "indicator",
         "value": 3510
        },
        {
         "domain": {
          "x": [
           0.35555555555555557,
           0.6444444444444445
          ],
          "y": [
           0,
           1
          ]
         },
         "mode": "number",
         "title": {
          "text": "Total Crashes"
         },
         "type": "indicator",
         "value": 5030
        },
        {
         "domain": {
          "x": [
           0.7111111111111111,
           1
          ],
          "y": [
           0,
           1
          ]
         },
         "mode": "number",
         "title": {
          "text": "Countries Involved"
         },
         "type": "indicator",
         "value": 60
        }
       ],
       "layout": {
        "height": 300,
        "template": {
         "data": {
          "pie": [
           {
            "automargin": true,
            "type": "pie"
           }
          ],
          "scatter": [
           {
            "line": {
             "width": 3
            },
            "marker": {
             "size": 9
            },
            "type": "scatter"
           }
          ],
          "scatter3d": [
           {
            "line": {
             "width": 3
            },
            "marker": {
             "size": 9
            },
            "type": "scatter3d"
           }
          ],
          "scattergeo": [
           {
            "line": {
             "width": 3
            },
            "marker": {
             "size": 9
            },
            "type": "scattergeo"
           }
          ],
          "scattergl": [
           {
            "line": {
             "width": 3
            },
            "marker": {
             "size": 9
            },
            "type": "scattergl"
           }
          ],
          "scatterpolar": [
           {
            "line": {
             "width": 3
            },
            "marker": {
             "size": 9
            },
            "type": "scatterpolar"
           }
          ],
          "scatterpolargl": [
           {
            "line": {
             "width": 3
            },
            "marker": {
             "size": 9
            },
            "type": "scatterpolargl"
           }
          ],
          "scatterternary": [
           {
            "line": {
             "width": 3
            },
            "marker": {
             "size": 9
            },
            "type": "scatterternary"
           }
          ],
          "table": [
           {
            "cells": {
             "height": 30
            },
            "header": {
             "height": 36
            },
            "type": "table"
           }
          ]
         },
         "layout": {
          "font": {
           "size": 18
          },
          "xaxis": {
           "title": {
            "standoff": 15
           }
          },
          "yaxis": {
           "title": {
            "standoff": 15
           }
          }
         }
        },
        "width": 900
       }
      }
     },
     "metadata": {},
     "output_type": "display_data"
    }
   ],
   "source": [
    "from plotly.subplots import make_subplots\n",
    "import plotly.graph_objects as go\n",
    "\n",
    "aircrafts = df['Aircraft'].nunique()\n",
    "crashes = len(df)\n",
    "countries = df['Country/Region'].nunique()\n",
    "title='all total',\n",
    "\n",
    "fig = make_subplots(rows=1, cols=3, specs=[[{'type':'indicator'}]*3])\n",
    "\n",
    "fig.add_trace(go.Indicator(\n",
    "    mode=\"number\",\n",
    "    value=aircrafts,\n",
    "    title={\"text\": \"Unique Aircrafts\"}), row=1, col=1)\n",
    "\n",
    "fig.add_trace(go.Indicator(\n",
    "    mode=\"number\",\n",
    "    value=crashes,\n",
    "    title={\"text\": \"Total Crashes\"}), row=1, col=2)\n",
    "\n",
    "fig.add_trace(go.Indicator(\n",
    "    mode=\"number\",\n",
    "    value=countries,\n",
    "    title={\"text\": \"Countries Involved\"}), row=1, col=3)\n",
    "\n",
    "fig.update_layout(height=300, width=900, template='presentation')\n",
    "fig.show()\n",
    "fig.write_image(os.path.join(result_dir,'all total.jpg'))\n",
    "fig.write_image(os.path.join(result_dir,'all total.png'))\n",
    "fig.write_html(os.path.join(result_dir,'all total.html'))"
   ]
  },
  {
   "cell_type": "markdown",
   "id": "dae23ef3-21bc-4589-965b-e624afffbd68",
   "metadata": {},
   "source": [
    "This set of indicator charts provides a quick summary of key dataset metrics:\n",
    "\n",
    "Unique Aircrafts: The dataset includes over 3,500 different aircraft models, highlighting the wide variety of aircraft types involved in air crashes over time.\n",
    "\n",
    "Total Crashes: There are 5,030 crash records in the dataset, representing reported aviation accidents from the early 1900s up to recent years.\n",
    "\n",
    "Countries Involved: The dataset includes crashes across more than 100 countries, indicating that aviation incidents have occurred globally, though many entries are listed as “unknown.”\n",
    "\n",
    "This dashboard gives an immediate overview of the scale and diversity of the aircrash data, helping to contextualize later analyses focused on specific aircraft, locations, or time periods."
   ]
  },
  {
   "cell_type": "code",
   "execution_count": 120,
   "id": "d19567d2-f686-4a7b-8274-47332d6da638",
   "metadata": {},
   "outputs": [],
   "source": [
    "import os\n",
    "\n",
    "# Define the directory where results will be saved\n",
    "result_dir = r\"C:\\Users\\user\\Documents\\Tekher\\NEW CRASHES\\Aircrashes_report\\result\"\n",
    "\n",
    "# Make sure the folder exists, if not create it\n",
    "os.makedirs(result_dir, exist_ok=True)"
   ]
  },
  {
   "cell_type": "markdown",
   "id": "efb57f71-7f03-4559-9165-726d6256cb49",
   "metadata": {},
   "source": [
    "### Crashes over time"
   ]
  },
  {
   "cell_type": "code",
   "execution_count": 121,
   "id": "0bfc9800-ec69-405d-a9fd-0c9a01d2e56d",
   "metadata": {},
   "outputs": [
    {
     "data": {
      "application/vnd.plotly.v1+json": {
       "config": {
        "plotlyServerURL": "https://plot.ly"
       },
       "data": [
        {
         "hovertemplate": "Operator Type=Military<br>Year=%{x}<br>Total Crashes=%{y}<extra></extra>",
         "legendgroup": "Military",
         "line": {
          "color": "#1f77b4",
          "dash": "solid"
         },
         "marker": {
          "symbol": "circle"
         },
         "mode": "lines+markers",
         "name": "Military",
         "orientation": "v",
         "showlegend": true,
         "type": "scatter",
         "x": {
          "_inputArray": {
           "0": 1908,
           "1": 1912,
           "10": 1929,
           "11": 1930,
           "12": 1933,
           "13": 1935,
           "14": 1936,
           "15": 1938,
           "16": 1939,
           "17": 1940,
           "18": 1941,
           "19": 1942,
           "2": 1913,
           "20": 1943,
           "21": 1944,
           "22": 1945,
           "23": 1946,
           "24": 1947,
           "25": 1948,
           "26": 1949,
           "27": 1950,
           "28": 1951,
           "29": 1952,
           "3": 1915,
           "30": 1953,
           "31": 1954,
           "32": 1955,
           "33": 1956,
           "34": 1957,
           "35": 1958,
           "36": 1959,
           "37": 1960,
           "38": 1961,
           "39": 1962,
           "4": 1916,
           "40": 1963,
           "41": 1964,
           "42": 1965,
           "43": 1966,
           "44": 1967,
           "45": 1968,
           "46": 1969,
           "47": 1970,
           "48": 1971,
           "49": 1972,
           "5": 1917,
           "50": 1973,
           "51": 1974,
           "52": 1975,
           "53": 1976,
           "54": 1977,
           "55": 1978,
           "56": 1979,
           "57": 1980,
           "58": 1981,
           "59": 1982,
           "6": 1918,
           "60": 1983,
           "61": 1984,
           "62": 1985,
           "63": 1986,
           "64": 1987,
           "65": 1988,
           "66": 1989,
           "67": 1990,
           "68": 1991,
           "69": 1992,
           "7": 1921,
           "70": 1993,
           "71": 1994,
           "72": 1995,
           "73": 1996,
           "74": 1997,
           "75": 1998,
           "76": 1999,
           "77": 2000,
           "78": 2001,
           "79": 2002,
           "8": 1922,
           "80": 2003,
           "81": 2004,
           "82": 2005,
           "83": 2006,
           "84": 2007,
           "85": 2008,
           "86": 2009,
           "87": 2010,
           "88": 2011,
           "89": 2012,
           "9": 1925,
           "90": 2013,
           "91": 2014,
           "92": 2015,
           "93": 2016,
           "94": 2017,
           "95": 2018,
           "96": 2019,
           "97": 2020,
           "98": 2021,
           "bdata": "dAd4B3kHewd8B30HfgeBB4IHhQeJB4oHjQePB5AHkgeTB5QHlQeWB5cHmAeZB5oHmwecB50HngefB6AHoQeiB6MHpAelB6YHpweoB6kHqgerB6wHrQeuB68HsAexB7IHswe0B7UHtge3B7gHuQe6B7sHvAe9B74HvwfAB8EHwgfDB8QHxQfGB8cHyAfJB8oHywfMB80HzgfPB9AH0QfSB9MH1AfVB9YH1wfYB9kH2gfbB9wH3QfeB98H4AfhB+IH4wfkB+UH",
           "dtype": "i2",
           "shape": "99"
          },
          "bdata": "dAd4B3kHewd8B30HfgeBB4IHhQeJB4oHjQePB5AHkgeTB5QHlQeWB5cHmAeZB5oHmwecB50HngefB6AHoQeiB6MHpAelB6YHpweoB6kHqgerB6wHrQeuB68HsAexB7IHswe0B7UHtge3B7gHuQe6B7sHvAe9B74HvwfAB8EHwgfDB8QHxQfGB8cHyAfJB8oHywfMB80HzgfPB9AH0QfSB9MH1AfVB9YH1wfYB9kH2gfbB9wH3QfeB98H4AfhB+IH4wfkB+UH",
          "dtype": "i2"
         },
         "xaxis": "x",
         "y": {
          "_inputArray": {
           "0": 1,
           "1": 1,
           "10": 1,
           "11": 1,
           "12": 1,
           "13": 1,
           "14": 1,
           "15": 1,
           "16": 1,
           "17": 1,
           "18": 2,
           "19": 8,
           "2": 1,
           "20": 17,
           "21": 17,
           "22": 42,
           "23": 21,
           "24": 12,
           "25": 3,
           "26": 7,
           "27": 14,
           "28": 11,
           "29": 16,
           "3": 2,
           "30": 8,
           "31": 11,
           "32": 7,
           "33": 5,
           "34": 6,
           "35": 13,
           "36": 1,
           "37": 9,
           "38": 7,
           "39": 9,
           "4": 5,
           "40": 8,
           "41": 10,
           "42": 11,
           "43": 7,
           "44": 8,
           "45": 11,
           "46": 5,
           "47": 9,
           "48": 7,
           "49": 9,
           "5": 4,
           "50": 3,
           "51": 3,
           "52": 7,
           "53": 5,
           "54": 11,
           "55": 3,
           "56": 3,
           "57": 10,
           "58": 11,
           "59": 11,
           "6": 2,
           "60": 8,
           "61": 9,
           "62": 9,
           "63": 13,
           "64": 10,
           "65": 7,
           "66": 10,
           "67": 11,
           "68": 8,
           "69": 14,
           "7": 2,
           "70": 7,
           "71": 7,
           "72": 10,
           "73": 12,
           "74": 9,
           "75": 8,
           "76": 8,
           "77": 10,
           "78": 7,
           "79": 12,
           "8": 1,
           "80": 9,
           "81": 4,
           "82": 8,
           "83": 12,
           "84": 5,
           "85": 7,
           "86": 8,
           "87": 6,
           "88": 3,
           "89": 7,
           "9": 1,
           "90": 2,
           "91": 3,
           "92": 3,
           "93": 1,
           "94": 1,
           "95": 5,
           "96": 2,
           "97": 1,
           "98": 3,
           "bdata": "AQEBAgUEAgIBAQEBAQEBAQEBAggRESoVDAMHDgsQCAsHBQYNAQkHCQgKCwcICwUJBwkDAwcFCwMDCgsLCAkJDQoHCgsIDgcHCgwJCAgKBwwJBAgMBQcIBgMHAgMDAQEFAgED",
           "dtype": "i1",
           "shape": "99"
          },
          "bdata": "AQEBAgUEAgIBAQEBAQEBAQEBAggRESoVDAMHDgsQCAsHBQYNAQkHCQgKCwcICwUJBwkDAwcFCwMDCgsLCAkJDQoHCgsIDgcHCgwJCAgKBwwJBAgMBQcIBgMHAgMDAQEFAgED",
          "dtype": "i1"
         },
         "yaxis": "y"
        },
        {
         "hovertemplate": "Operator Type=Unknown<br>Year=%{x}<br>Total Crashes=%{y}<extra></extra>",
         "legendgroup": "Unknown",
         "line": {
          "color": "#ff7f0e",
          "dash": "solid"
         },
         "marker": {
          "symbol": "circle"
         },
         "mode": "lines+markers",
         "name": "Unknown",
         "orientation": "v",
         "showlegend": true,
         "type": "scatter",
         "x": {
          "_inputArray": {
           "0": 1909,
           "1": 1913,
           "10": 1928,
           "11": 1929,
           "12": 1930,
           "13": 1931,
           "14": 1933,
           "15": 1934,
           "16": 1935,
           "17": 1936,
           "18": 1937,
           "19": 1938,
           "2": 1917,
           "20": 1939,
           "21": 1940,
           "22": 1941,
           "23": 1942,
           "24": 1943,
           "25": 1944,
           "26": 1945,
           "27": 1946,
           "28": 1947,
           "29": 1948,
           "3": 1918,
           "30": 1950,
           "31": 1951,
           "32": 1952,
           "33": 1953,
           "34": 1954,
           "35": 1955,
           "36": 1956,
           "37": 1957,
           "38": 1958,
           "39": 1959,
           "4": 1921,
           "40": 1960,
           "41": 1961,
           "42": 1962,
           "43": 1963,
           "44": 1964,
           "45": 1965,
           "46": 1966,
           "47": 1967,
           "48": 1968,
           "49": 1969,
           "5": 1922,
           "50": 1970,
           "51": 1971,
           "52": 1972,
           "53": 1973,
           "54": 1974,
           "55": 1975,
           "56": 1976,
           "57": 1977,
           "58": 1978,
           "59": 1979,
           "6": 1923,
           "60": 1980,
           "61": 1981,
           "62": 1982,
           "63": 1983,
           "64": 1984,
           "65": 1985,
           "66": 1986,
           "67": 1987,
           "68": 1988,
           "69": 1989,
           "7": 1924,
           "70": 1990,
           "71": 1991,
           "72": 1992,
           "73": 1994,
           "74": 1997,
           "75": 1998,
           "76": 2003,
           "77": 2006,
           "78": 2008,
           "79": 2009,
           "8": 1926,
           "80": 2010,
           "81": 2011,
           "82": 2012,
           "83": 2013,
           "84": 2014,
           "85": 2016,
           "86": 2022,
           "9": 1927,
           "bdata": "dQd5B30HfgeBB4IHgweEB4YHhweIB4kHigeLB40HjgePB5AHkQeSB5MHlAeVB5YHlweYB5kHmgebB5wHngefB6AHoQeiB6MHpAelB6YHpweoB6kHqgerB6wHrQeuB68HsAexB7IHswe0B7UHtge3B7gHuQe6B7sHvAe9B74HvwfAB8EHwgfDB8QHxQfGB8cHyAfKB80HzgfTB9YH2AfZB9oH2wfcB90H3gfgB+YH",
           "dtype": "i2",
           "shape": "87"
          },
          "bdata": "dQd5B30HfgeBB4IHgweEB4YHhweIB4kHigeLB40HjgePB5AHkQeSB5MHlAeVB5YHlweYB5kHmgebB5wHngefB6AHoQeiB6MHpAelB6YHpweoB6kHqgerB6wHrQeuB68HsAexB7IHswe0B7UHtge3B7gHuQe6B7sHvAe9B74HvwfAB8EHwgfDB8QHxQfGB8cHyAfKB80HzgfTB9YH2AfZB9oH2wfcB90H3gfgB+YH",
          "dtype": "i2"
         },
         "xaxis": "x",
         "y": {
          "_inputArray": {
           "0": 1,
           "1": 1,
           "10": 3,
           "11": 3,
           "12": 1,
           "13": 3,
           "14": 2,
           "15": 3,
           "16": 2,
           "17": 4,
           "18": 3,
           "19": 3,
           "2": 3,
           "20": 5,
           "21": 3,
           "22": 3,
           "23": 5,
           "24": 5,
           "25": 7,
           "26": 8,
           "27": 5,
           "28": 5,
           "29": 5,
           "3": 1,
           "30": 4,
           "31": 3,
           "32": 1,
           "33": 1,
           "34": 1,
           "35": 1,
           "36": 3,
           "37": 1,
           "38": 4,
           "39": 2,
           "4": 1,
           "40": 2,
           "41": 4,
           "42": 7,
           "43": 2,
           "44": 2,
           "45": 2,
           "46": 1,
           "47": 3,
           "48": 1,
           "49": 2,
           "5": 3,
           "50": 6,
           "51": 2,
           "52": 5,
           "53": 3,
           "54": 1,
           "55": 2,
           "56": 4,
           "57": 4,
           "58": 1,
           "59": 2,
           "6": 2,
           "60": 2,
           "61": 2,
           "62": 6,
           "63": 2,
           "64": 2,
           "65": 2,
           "66": 1,
           "67": 4,
           "68": 6,
           "69": 5,
           "7": 2,
           "70": 1,
           "71": 3,
           "72": 1,
           "73": 4,
           "74": 2,
           "75": 1,
           "76": 1,
           "77": 3,
           "78": 1,
           "79": 1,
           "8": 2,
           "80": 1,
           "81": 1,
           "82": 1,
           "83": 1,
           "84": 3,
           "85": 2,
           "86": 1,
           "9": 3,
           "bdata": "AQEDAQEDAgICAwMDAQMCAwIEAwMFAwMFBQcIBQUFBAMBAQEBAwEEAgIEBwICAgEDAQIGAgUDAQIEBAECAgIGAgICAQQGBQEDAQQCAQEDAQEBAQEBAwIB",
           "dtype": "i1",
           "shape": "87"
          },
          "bdata": "AQEDAQEDAgICAwMDAQMCAwIEAwMFAwMFBQcIBQUFBAMBAQEBAwEEAgIEBwICAgEDAQIGAgUDAQIEBAECAgIGAgICAQQGBQEDAQQCAQEDAQEBAQEBAwIB",
          "dtype": "i1"
         },
         "yaxis": "y"
        },
        {
         "hovertemplate": "Operator Type=Commercial<br>Year=%{x}<br>Total Crashes=%{y}<extra></extra>",
         "legendgroup": "Commercial",
         "line": {
          "color": "#2ca02c",
          "dash": "solid"
         },
         "marker": {
          "symbol": "circle"
         },
         "mode": "lines+markers",
         "name": "Commercial",
         "orientation": "v",
         "showlegend": true,
         "type": "scatter",
         "x": {
          "_inputArray": {
           "0": 1913,
           "1": 1918,
           "10": 1927,
           "100": 2017,
           "101": 2018,
           "102": 2019,
           "103": 2020,
           "104": 2021,
           "105": 2022,
           "106": 2023,
           "11": 1928,
           "12": 1929,
           "13": 1930,
           "14": 1931,
           "15": 1932,
           "16": 1933,
           "17": 1934,
           "18": 1935,
           "19": 1936,
           "2": 1919,
           "20": 1937,
           "21": 1938,
           "22": 1939,
           "23": 1940,
           "24": 1941,
           "25": 1942,
           "26": 1943,
           "27": 1944,
           "28": 1945,
           "29": 1946,
           "3": 1920,
           "30": 1947,
           "31": 1948,
           "32": 1949,
           "33": 1950,
           "34": 1951,
           "35": 1952,
           "36": 1953,
           "37": 1954,
           "38": 1955,
           "39": 1956,
           "4": 1921,
           "40": 1957,
           "41": 1958,
           "42": 1959,
           "43": 1960,
           "44": 1961,
           "45": 1962,
           "46": 1963,
           "47": 1964,
           "48": 1965,
           "49": 1966,
           "5": 1922,
           "50": 1967,
           "51": 1968,
           "52": 1969,
           "53": 1970,
           "54": 1971,
           "55": 1972,
           "56": 1973,
           "57": 1974,
           "58": 1975,
           "59": 1976,
           "6": 1923,
           "60": 1977,
           "61": 1978,
           "62": 1979,
           "63": 1980,
           "64": 1981,
           "65": 1982,
           "66": 1983,
           "67": 1984,
           "68": 1985,
           "69": 1986,
           "7": 1924,
           "70": 1987,
           "71": 1988,
           "72": 1989,
           "73": 1990,
           "74": 1991,
           "75": 1992,
           "76": 1993,
           "77": 1994,
           "78": 1995,
           "79": 1996,
           "8": 1925,
           "80": 1997,
           "81": 1998,
           "82": 1999,
           "83": 2000,
           "84": 2001,
           "85": 2002,
           "86": 2003,
           "87": 2004,
           "88": 2005,
           "89": 2006,
           "9": 1926,
           "90": 2007,
           "91": 2008,
           "92": 2009,
           "93": 2010,
           "94": 2011,
           "95": 2012,
           "96": 2013,
           "97": 2014,
           "98": 2015,
           "99": 2016,
           "bdata": "eQd+B38HgAeBB4IHgweEB4UHhgeHB4gHiQeKB4sHjAeNB44HjweQB5EHkgeTB5QHlQeWB5cHmAeZB5oHmwecB50HngefB6AHoQeiB6MHpAelB6YHpweoB6kHqgerB6wHrQeuB68HsAexB7IHswe0B7UHtge3B7gHuQe6B7sHvAe9B74HvwfAB8EHwgfDB8QHxQfGB8cHyAfJB8oHywfMB80HzgfPB9AH0QfSB9MH1AfVB9YH1wfYB9kH2gfbB9wH3QfeB98H4AfhB+IH4wfkB+UH5gfnBw==",
           "dtype": "i2",
           "shape": "107"
          },
          "bdata": "eQd+B38HgAeBB4IHgweEB4UHhgeHB4gHiQeKB4sHjAeNB44HjweQB5EHkgeTB5QHlQeWB5cHmAeZB5oHmwecB50HngefB6AHoQeiB6MHpAelB6YHpweoB6kHqgerB6wHrQeuB68HsAexB7IHswe0B7UHtge3B7gHuQe6B7sHvAe9B74HvwfAB8EHwgfDB8QHxQfGB8cHyAfJB8oHywfMB80HzgfPB9AH0QfSB9MH1AfVB9YH1wfYB9kH2gfbB9wH3QfeB98H4AfhB+IH4wfkB+UH5gfnBw==",
          "dtype": "i2"
         },
         "xaxis": "x",
         "y": {
          "_inputArray": {
           "0": 1,
           "1": 1,
           "10": 17,
           "100": 14,
           "101": 14,
           "102": 11,
           "103": 7,
           "104": 6,
           "105": 5,
           "106": 2,
           "11": 33,
           "12": 35,
           "13": 25,
           "14": 30,
           "15": 28,
           "16": 25,
           "17": 28,
           "18": 39,
           "19": 45,
           "2": 9,
           "20": 33,
           "21": 52,
           "22": 24,
           "23": 21,
           "24": 22,
           "25": 25,
           "26": 23,
           "27": 32,
           "28": 25,
           "29": 62,
           "3": 18,
           "30": 65,
           "31": 70,
           "32": 60,
           "33": 53,
           "34": 61,
           "35": 48,
           "36": 61,
           "37": 49,
           "38": 49,
           "39": 45,
           "4": 9,
           "40": 59,
           "41": 52,
           "42": 63,
           "43": 59,
           "44": 49,
           "45": 63,
           "46": 54,
           "47": 47,
           "48": 51,
           "49": 52,
           "5": 9,
           "50": 51,
           "51": 53,
           "52": 62,
           "53": 58,
           "54": 49,
           "55": 63,
           "56": 58,
           "57": 54,
           "58": 42,
           "59": 48,
           "6": 11,
           "60": 48,
           "61": 47,
           "62": 55,
           "63": 33,
           "64": 37,
           "65": 37,
           "66": 38,
           "67": 37,
           "68": 45,
           "69": 37,
           "7": 5,
           "70": 40,
           "71": 51,
           "72": 68,
           "73": 49,
           "74": 58,
           "75": 52,
           "76": 49,
           "77": 63,
           "78": 51,
           "79": 56,
           "8": 10,
           "80": 45,
           "81": 50,
           "82": 54,
           "83": 53,
           "84": 51,
           "85": 43,
           "86": 52,
           "87": 42,
           "88": 37,
           "89": 23,
           "9": 11,
           "90": 38,
           "91": 43,
           "92": 37,
           "93": 33,
           "94": 32,
           "95": 18,
           "96": 22,
           "97": 17,
           "98": 15,
           "99": 20,
           "bdata": "AQEJEgkJCwUKCxEhIxkeHBkcJy0hNBgVFhkXIBk+QUY8NT0wPTExLTs0PzsxPzYvMzQzNT46MT86NiowMC83ISUlJiUtJSgzRDE6NDE/MzgtMjY1Mys0KiUXJislISASFhEPFA4OCwcGBQI=",
           "dtype": "i1",
           "shape": "107"
          },
          "bdata": "AQEJEgkJCwUKCxEhIxkeHBkcJy0hNBgVFhkXIBk+QUY8NT0wPTExLTs0PzsxPzYvMzQzNT46MT86NiowMC83ISUlJiUtJSgzRDE6NDE/MzgtMjY1Mys0KiUXJislISASFhEPFA4OCwcGBQI=",
          "dtype": "i1"
         },
         "yaxis": "y"
        }
       ],
       "layout": {
        "height": 650,
        "legend": {
         "font": {
          "size": 14
         },
         "orientation": "h",
         "title": {
          "text": "Operator Type"
         },
         "tracegroupgap": 0,
         "x": 0.5,
         "xanchor": "center",
         "y": -0.3,
         "yanchor": "bottom"
        },
        "template": {
         "data": {
          "bar": [
           {
            "error_x": {
             "color": "#2a3f5f"
            },
            "error_y": {
             "color": "#2a3f5f"
            },
            "marker": {
             "line": {
              "color": "white",
              "width": 0.5
             },
             "pattern": {
              "fillmode": "overlay",
              "size": 10,
              "solidity": 0.2
             }
            },
            "type": "bar"
           }
          ],
          "barpolar": [
           {
            "marker": {
             "line": {
              "color": "white",
              "width": 0.5
             },
             "pattern": {
              "fillmode": "overlay",
              "size": 10,
              "solidity": 0.2
             }
            },
            "type": "barpolar"
           }
          ],
          "carpet": [
           {
            "aaxis": {
             "endlinecolor": "#2a3f5f",
             "gridcolor": "#C8D4E3",
             "linecolor": "#C8D4E3",
             "minorgridcolor": "#C8D4E3",
             "startlinecolor": "#2a3f5f"
            },
            "baxis": {
             "endlinecolor": "#2a3f5f",
             "gridcolor": "#C8D4E3",
             "linecolor": "#C8D4E3",
             "minorgridcolor": "#C8D4E3",
             "startlinecolor": "#2a3f5f"
            },
            "type": "carpet"
           }
          ],
          "choropleth": [
           {
            "colorbar": {
             "outlinewidth": 0,
             "ticks": ""
            },
            "type": "choropleth"
           }
          ],
          "contour": [
           {
            "colorbar": {
             "outlinewidth": 0,
             "ticks": ""
            },
            "colorscale": [
             [
              0,
              "#0d0887"
             ],
             [
              0.1111111111111111,
              "#46039f"
             ],
             [
              0.2222222222222222,
              "#7201a8"
             ],
             [
              0.3333333333333333,
              "#9c179e"
             ],
             [
              0.4444444444444444,
              "#bd3786"
             ],
             [
              0.5555555555555556,
              "#d8576b"
             ],
             [
              0.6666666666666666,
              "#ed7953"
             ],
             [
              0.7777777777777778,
              "#fb9f3a"
             ],
             [
              0.8888888888888888,
              "#fdca26"
             ],
             [
              1,
              "#f0f921"
             ]
            ],
            "type": "contour"
           }
          ],
          "contourcarpet": [
           {
            "colorbar": {
             "outlinewidth": 0,
             "ticks": ""
            },
            "type": "contourcarpet"
           }
          ],
          "heatmap": [
           {
            "colorbar": {
             "outlinewidth": 0,
             "ticks": ""
            },
            "colorscale": [
             [
              0,
              "#0d0887"
             ],
             [
              0.1111111111111111,
              "#46039f"
             ],
             [
              0.2222222222222222,
              "#7201a8"
             ],
             [
              0.3333333333333333,
              "#9c179e"
             ],
             [
              0.4444444444444444,
              "#bd3786"
             ],
             [
              0.5555555555555556,
              "#d8576b"
             ],
             [
              0.6666666666666666,
              "#ed7953"
             ],
             [
              0.7777777777777778,
              "#fb9f3a"
             ],
             [
              0.8888888888888888,
              "#fdca26"
             ],
             [
              1,
              "#f0f921"
             ]
            ],
            "type": "heatmap"
           }
          ],
          "histogram": [
           {
            "marker": {
             "pattern": {
              "fillmode": "overlay",
              "size": 10,
              "solidity": 0.2
             }
            },
            "type": "histogram"
           }
          ],
          "histogram2d": [
           {
            "colorbar": {
             "outlinewidth": 0,
             "ticks": ""
            },
            "colorscale": [
             [
              0,
              "#0d0887"
             ],
             [
              0.1111111111111111,
              "#46039f"
             ],
             [
              0.2222222222222222,
              "#7201a8"
             ],
             [
              0.3333333333333333,
              "#9c179e"
             ],
             [
              0.4444444444444444,
              "#bd3786"
             ],
             [
              0.5555555555555556,
              "#d8576b"
             ],
             [
              0.6666666666666666,
              "#ed7953"
             ],
             [
              0.7777777777777778,
              "#fb9f3a"
             ],
             [
              0.8888888888888888,
              "#fdca26"
             ],
             [
              1,
              "#f0f921"
             ]
            ],
            "type": "histogram2d"
           }
          ],
          "histogram2dcontour": [
           {
            "colorbar": {
             "outlinewidth": 0,
             "ticks": ""
            },
            "colorscale": [
             [
              0,
              "#0d0887"
             ],
             [
              0.1111111111111111,
              "#46039f"
             ],
             [
              0.2222222222222222,
              "#7201a8"
             ],
             [
              0.3333333333333333,
              "#9c179e"
             ],
             [
              0.4444444444444444,
              "#bd3786"
             ],
             [
              0.5555555555555556,
              "#d8576b"
             ],
             [
              0.6666666666666666,
              "#ed7953"
             ],
             [
              0.7777777777777778,
              "#fb9f3a"
             ],
             [
              0.8888888888888888,
              "#fdca26"
             ],
             [
              1,
              "#f0f921"
             ]
            ],
            "type": "histogram2dcontour"
           }
          ],
          "mesh3d": [
           {
            "colorbar": {
             "outlinewidth": 0,
             "ticks": ""
            },
            "type": "mesh3d"
           }
          ],
          "parcoords": [
           {
            "line": {
             "colorbar": {
              "outlinewidth": 0,
              "ticks": ""
             }
            },
            "type": "parcoords"
           }
          ],
          "pie": [
           {
            "automargin": true,
            "type": "pie"
           }
          ],
          "scatter": [
           {
            "fillpattern": {
             "fillmode": "overlay",
             "size": 10,
             "solidity": 0.2
            },
            "type": "scatter"
           }
          ],
          "scatter3d": [
           {
            "line": {
             "colorbar": {
              "outlinewidth": 0,
              "ticks": ""
             }
            },
            "marker": {
             "colorbar": {
              "outlinewidth": 0,
              "ticks": ""
             }
            },
            "type": "scatter3d"
           }
          ],
          "scattercarpet": [
           {
            "marker": {
             "colorbar": {
              "outlinewidth": 0,
              "ticks": ""
             }
            },
            "type": "scattercarpet"
           }
          ],
          "scattergeo": [
           {
            "marker": {
             "colorbar": {
              "outlinewidth": 0,
              "ticks": ""
             }
            },
            "type": "scattergeo"
           }
          ],
          "scattergl": [
           {
            "marker": {
             "colorbar": {
              "outlinewidth": 0,
              "ticks": ""
             }
            },
            "type": "scattergl"
           }
          ],
          "scattermap": [
           {
            "marker": {
             "colorbar": {
              "outlinewidth": 0,
              "ticks": ""
             }
            },
            "type": "scattermap"
           }
          ],
          "scattermapbox": [
           {
            "marker": {
             "colorbar": {
              "outlinewidth": 0,
              "ticks": ""
             }
            },
            "type": "scattermapbox"
           }
          ],
          "scatterpolar": [
           {
            "marker": {
             "colorbar": {
              "outlinewidth": 0,
              "ticks": ""
             }
            },
            "type": "scatterpolar"
           }
          ],
          "scatterpolargl": [
           {
            "marker": {
             "colorbar": {
              "outlinewidth": 0,
              "ticks": ""
             }
            },
            "type": "scatterpolargl"
           }
          ],
          "scatterternary": [
           {
            "marker": {
             "colorbar": {
              "outlinewidth": 0,
              "ticks": ""
             }
            },
            "type": "scatterternary"
           }
          ],
          "surface": [
           {
            "colorbar": {
             "outlinewidth": 0,
             "ticks": ""
            },
            "colorscale": [
             [
              0,
              "#0d0887"
             ],
             [
              0.1111111111111111,
              "#46039f"
             ],
             [
              0.2222222222222222,
              "#7201a8"
             ],
             [
              0.3333333333333333,
              "#9c179e"
             ],
             [
              0.4444444444444444,
              "#bd3786"
             ],
             [
              0.5555555555555556,
              "#d8576b"
             ],
             [
              0.6666666666666666,
              "#ed7953"
             ],
             [
              0.7777777777777778,
              "#fb9f3a"
             ],
             [
              0.8888888888888888,
              "#fdca26"
             ],
             [
              1,
              "#f0f921"
             ]
            ],
            "type": "surface"
           }
          ],
          "table": [
           {
            "cells": {
             "fill": {
              "color": "#EBF0F8"
             },
             "line": {
              "color": "white"
             }
            },
            "header": {
             "fill": {
              "color": "#C8D4E3"
             },
             "line": {
              "color": "white"
             }
            },
            "type": "table"
           }
          ]
         },
         "layout": {
          "annotationdefaults": {
           "arrowcolor": "#2a3f5f",
           "arrowhead": 0,
           "arrowwidth": 1
          },
          "autotypenumbers": "strict",
          "coloraxis": {
           "colorbar": {
            "outlinewidth": 0,
            "ticks": ""
           }
          },
          "colorscale": {
           "diverging": [
            [
             0,
             "#8e0152"
            ],
            [
             0.1,
             "#c51b7d"
            ],
            [
             0.2,
             "#de77ae"
            ],
            [
             0.3,
             "#f1b6da"
            ],
            [
             0.4,
             "#fde0ef"
            ],
            [
             0.5,
             "#f7f7f7"
            ],
            [
             0.6,
             "#e6f5d0"
            ],
            [
             0.7,
             "#b8e186"
            ],
            [
             0.8,
             "#7fbc41"
            ],
            [
             0.9,
             "#4d9221"
            ],
            [
             1,
             "#276419"
            ]
           ],
           "sequential": [
            [
             0,
             "#0d0887"
            ],
            [
             0.1111111111111111,
             "#46039f"
            ],
            [
             0.2222222222222222,
             "#7201a8"
            ],
            [
             0.3333333333333333,
             "#9c179e"
            ],
            [
             0.4444444444444444,
             "#bd3786"
            ],
            [
             0.5555555555555556,
             "#d8576b"
            ],
            [
             0.6666666666666666,
             "#ed7953"
            ],
            [
             0.7777777777777778,
             "#fb9f3a"
            ],
            [
             0.8888888888888888,
             "#fdca26"
            ],
            [
             1,
             "#f0f921"
            ]
           ],
           "sequentialminus": [
            [
             0,
             "#0d0887"
            ],
            [
             0.1111111111111111,
             "#46039f"
            ],
            [
             0.2222222222222222,
             "#7201a8"
            ],
            [
             0.3333333333333333,
             "#9c179e"
            ],
            [
             0.4444444444444444,
             "#bd3786"
            ],
            [
             0.5555555555555556,
             "#d8576b"
            ],
            [
             0.6666666666666666,
             "#ed7953"
            ],
            [
             0.7777777777777778,
             "#fb9f3a"
            ],
            [
             0.8888888888888888,
             "#fdca26"
            ],
            [
             1,
             "#f0f921"
            ]
           ]
          },
          "colorway": [
           "#636efa",
           "#EF553B",
           "#00cc96",
           "#ab63fa",
           "#FFA15A",
           "#19d3f3",
           "#FF6692",
           "#B6E880",
           "#FF97FF",
           "#FECB52"
          ],
          "font": {
           "color": "#2a3f5f"
          },
          "geo": {
           "bgcolor": "white",
           "lakecolor": "white",
           "landcolor": "white",
           "showlakes": true,
           "showland": true,
           "subunitcolor": "#C8D4E3"
          },
          "hoverlabel": {
           "align": "left"
          },
          "hovermode": "closest",
          "mapbox": {
           "style": "light"
          },
          "paper_bgcolor": "white",
          "plot_bgcolor": "white",
          "polar": {
           "angularaxis": {
            "gridcolor": "#EBF0F8",
            "linecolor": "#EBF0F8",
            "ticks": ""
           },
           "bgcolor": "white",
           "radialaxis": {
            "gridcolor": "#EBF0F8",
            "linecolor": "#EBF0F8",
            "ticks": ""
           }
          },
          "scene": {
           "xaxis": {
            "backgroundcolor": "white",
            "gridcolor": "#DFE8F3",
            "gridwidth": 2,
            "linecolor": "#EBF0F8",
            "showbackground": true,
            "ticks": "",
            "zerolinecolor": "#EBF0F8"
           },
           "yaxis": {
            "backgroundcolor": "white",
            "gridcolor": "#DFE8F3",
            "gridwidth": 2,
            "linecolor": "#EBF0F8",
            "showbackground": true,
            "ticks": "",
            "zerolinecolor": "#EBF0F8"
           },
           "zaxis": {
            "backgroundcolor": "white",
            "gridcolor": "#DFE8F3",
            "gridwidth": 2,
            "linecolor": "#EBF0F8",
            "showbackground": true,
            "ticks": "",
            "zerolinecolor": "#EBF0F8"
           }
          },
          "shapedefaults": {
           "line": {
            "color": "#2a3f5f"
           }
          },
          "ternary": {
           "aaxis": {
            "gridcolor": "#DFE8F3",
            "linecolor": "#A2B1C6",
            "ticks": ""
           },
           "baxis": {
            "gridcolor": "#DFE8F3",
            "linecolor": "#A2B1C6",
            "ticks": ""
           },
           "bgcolor": "white",
           "caxis": {
            "gridcolor": "#DFE8F3",
            "linecolor": "#A2B1C6",
            "ticks": ""
           }
          },
          "title": {
           "x": 0.05
          },
          "xaxis": {
           "automargin": true,
           "gridcolor": "#EBF0F8",
           "linecolor": "#EBF0F8",
           "ticks": "",
           "title": {
            "standoff": 15
           },
           "zerolinecolor": "#EBF0F8",
           "zerolinewidth": 2
          },
          "yaxis": {
           "automargin": true,
           "gridcolor": "#EBF0F8",
           "linecolor": "#EBF0F8",
           "ticks": "",
           "title": {
            "standoff": 15
           },
           "zerolinecolor": "#EBF0F8",
           "zerolinewidth": 2
          }
         }
        },
        "title": {
         "font": {
          "size": 22
         },
         "text": "Trends in Air Crashes Over Time by Operator Type"
        },
        "width": 1100,
        "xaxis": {
         "anchor": "y",
         "autorange": true,
         "domain": [
          0,
          1
         ],
         "dtick": 5,
         "range": [
          1901.0396541443054,
          2029.9603458556946
         ],
         "tickangle": 45,
         "tickmode": "linear",
         "title": {
          "font": {
           "size": 16
          },
          "text": "Year"
         },
         "type": "linear"
        },
        "yaxis": {
         "anchor": "x",
         "autorange": true,
         "domain": [
          0,
          1
         ],
         "range": [
          -3.6207888249794573,
          74.62078882497946
         ],
         "title": {
          "font": {
           "size": 16
          },
          "text": "Total Crashes"
         },
         "type": "linear"
        }
       }
      }
     },
     "metadata": {},
     "output_type": "display_data"
    }
   ],
   "source": [
    "import os\n",
    "import pandas as pd\n",
    "import plotly.express as px\n",
    "\n",
    "# Make sure this is set correctly\n",
    "result_dir = r'C:\\Users\\user\\Documents\\CrashResults'\n",
    "os.makedirs(result_dir, exist_ok=True)\n",
    "\n",
    "# Reclassify Operator Type\n",
    "def classify_operator(op):\n",
    "    if pd.isna(op) or op.strip().lower() in ['unknown', '', 'nan']:\n",
    "        return 'Unknown'\n",
    "    elif 'military' in op.lower() or 'army' in op.lower() or 'navy' in op.lower():\n",
    "        return 'Military'\n",
    "    else:\n",
    "        return 'Commercial'\n",
    "\n",
    "df['Operator Type'] = df['Operator'].apply(classify_operator)\n",
    "\n",
    "# Group the data\n",
    "crashes_by_operator = df.groupby(['Year', 'Operator Type']).size().reset_index(name='Total Crashes')\n",
    "\n",
    "# Use a line chart\n",
    "fig = px.line(\n",
    "    crashes_by_operator,\n",
    "    x='Year',\n",
    "    y='Total Crashes',\n",
    "    color='Operator Type',\n",
    "    markers=True,\n",
    "    title='Trends in Air Crashes Over Time by Operator Type',\n",
    "    template='plotly_white',\n",
    "    color_discrete_map={\n",
    "        'Military': '#1f77b4',\n",
    "        'Commercial': '#2ca02c',\n",
    "        'Unknown': '#ff7f0e'\n",
    "    },\n",
    "    height=650,\n",
    "    width=1100\n",
    ")\n",
    "\n",
    "# Update layout for clarity\n",
    "fig.update_layout(\n",
    "    xaxis=dict(\n",
    "        title='Year',\n",
    "        tickmode='linear',\n",
    "        dtick=5,\n",
    "        tickangle=45,\n",
    "        title_font=dict(size=16)\n",
    "    ),\n",
    "    yaxis=dict(\n",
    "        title='Total Crashes',\n",
    "        title_font=dict(size=16)\n",
    "    ),\n",
    "    title_font=dict(size=22),\n",
    "    legend=dict(\n",
    "        title='Operator Type',\n",
    "        font=dict(size=14),\n",
    "        orientation='h',\n",
    "        yanchor='bottom',\n",
    "        y=-0.3,\n",
    "        xanchor='center',\n",
    "        x=0.5\n",
    "    )\n",
    ")\n",
    "\n",
    "# Show plot\n",
    "fig.show()\n",
    "\n",
    "fig.write_image(os.path.join(result_dir,'Trends in Air Crashes Over Time by Operator Type.jpg'))\n",
    "fig.write_image(os.path.join(result_dir,'Trends in Air Crashes Over Time by Operator Type.png'))\n",
    "fig.write_html(os.path.join(result_dir,'Trends in Air Crashes Over Time by Operator Type.html'))\n"
   ]
  },
  {
   "cell_type": "markdown",
   "id": "b0fa2cfa-e546-4c07-9ad8-797136a51b20",
   "metadata": {},
   "source": [
    "This line chart illustrates the trend of air crashes over time, categorized by operator type: Military, Commercial, and Unknown.\n",
    "\n",
    "Military crashes were more frequent in earlier decades, especially around major global conflicts, and gradually declined over time.\n",
    "\n",
    "Commercial crashes show a different trend, increasing during the aviation boom and later stabilizing as safety measures improved.\n",
    "\n",
    "The Unknown category captures operators with missing or unclear information and remains relatively constant.\n",
    "\n",
    "The use of a time-series view reveals how aviation safety and reporting practices have evolved, and highlights the distinct patterns between military and civilian aviation sectors."
   ]
  },
  {
   "cell_type": "code",
   "execution_count": 122,
   "id": "1f8010d7-6f56-4195-a64b-3fe5a95e7412",
   "metadata": {},
   "outputs": [
    {
     "data": {
      "text/plain": [
       "array(['Army U.S. - Military', 'Unknown', 'Navy U.S. - JerseyMilitary',\n",
       "       ..., 'LATAM', 'SAS Aero', 'Aerotaxi Manaus'], dtype=object)"
      ]
     },
     "execution_count": 122,
     "metadata": {},
     "output_type": "execute_result"
    }
   ],
   "source": [
    "df['Operator'].unique()"
   ]
  },
  {
   "cell_type": "markdown",
   "id": "65bd3492-379a-4d95-b79d-ea580b8d8bad",
   "metadata": {},
   "source": [
    "### Top aircraft types involved"
   ]
  },
  {
   "cell_type": "code",
   "execution_count": 123,
   "id": "b08207be-2a7a-4d14-8698-4ea3eb8b914c",
   "metadata": {},
   "outputs": [
    {
     "data": {
      "application/vnd.plotly.v1+json": {
       "config": {
        "plotlyServerURL": "https://plot.ly"
       },
       "data": [
        {
         "customdata": {
          "_inputArray": [
           {
            "0": 3768
           },
           {
            "0": 332
           },
           {
            "0": 1388
           },
           {
            "0": 203
           },
           {
            "0": 636
           },
           {
            "0": 623
           },
           {
            "0": 1891
           },
           {
            "0": 2871
           },
           {
            "0": 4219
           },
           {
            "0": 3994
           }
          ],
          "bdata": "uA5MAWwFywB8Am8CYwc3C3sQmg8=",
          "dtype": "i2",
          "shape": "10, 1"
         },
         "hovertemplate": "Number of Crashes=%{x}<br>Aircraft=%{y}<br>Total Fatalities=%{customdata[0]}<extra></extra>",
         "legendgroup": "",
         "marker": {
          "color": "#1F77B4",
          "pattern": {
           "shape": ""
          }
         },
         "name": "",
         "orientation": "h",
         "showlegend": false,
         "textposition": "auto",
         "type": "bar",
         "x": {
          "_inputArray": {
           "0": 31,
           "1": 31,
           "2": 36,
           "3": 37,
           "4": 38,
           "5": 40,
           "6": 42,
           "7": 51,
           "8": 57,
           "9": 73,
           "bdata": "Hx8kJSYoKjM5SQ==",
           "dtype": "i1",
           "shape": "10"
          },
          "bdata": "Hx8kJSYoKjM5SQ==",
          "dtype": "i1"
         },
         "xaxis": "x",
         "y": [
          "Boeing B 747",
          "Douglas DC 3",
          "McDonnell Douglas DC 8",
          "Britten  Norman BN",
          "Douglas C 47",
          "Douglas C 47A",
          "McDonnell Douglas DC 9",
          "Boeing B 707",
          "Boeing B 727",
          "Boeing B 737"
         ],
         "yaxis": "y"
        }
       ],
       "layout": {
        "autosize": true,
        "barmode": "relative",
        "legend": {
         "tracegroupgap": 0
        },
        "margin": {
         "l": 280
        },
        "template": {
         "data": {
          "pie": [
           {
            "automargin": true,
            "type": "pie"
           }
          ],
          "scatter": [
           {
            "line": {
             "width": 3
            },
            "marker": {
             "size": 9
            },
            "type": "scatter"
           }
          ],
          "scatter3d": [
           {
            "line": {
             "width": 3
            },
            "marker": {
             "size": 9
            },
            "type": "scatter3d"
           }
          ],
          "scattergeo": [
           {
            "line": {
             "width": 3
            },
            "marker": {
             "size": 9
            },
            "type": "scattergeo"
           }
          ],
          "scattergl": [
           {
            "line": {
             "width": 3
            },
            "marker": {
             "size": 9
            },
            "type": "scattergl"
           }
          ],
          "scatterpolar": [
           {
            "line": {
             "width": 3
            },
            "marker": {
             "size": 9
            },
            "type": "scatterpolar"
           }
          ],
          "scatterpolargl": [
           {
            "line": {
             "width": 3
            },
            "marker": {
             "size": 9
            },
            "type": "scatterpolargl"
           }
          ],
          "scatterternary": [
           {
            "line": {
             "width": 3
            },
            "marker": {
             "size": 9
            },
            "type": "scatterternary"
           }
          ],
          "table": [
           {
            "cells": {
             "height": 30
            },
            "header": {
             "height": 36
            },
            "type": "table"
           }
          ]
         },
         "layout": {
          "font": {
           "size": 18
          },
          "xaxis": {
           "title": {
            "standoff": 15
           }
          },
          "yaxis": {
           "title": {
            "standoff": 15
           }
          }
         }
        },
        "title": {
         "text": "Top 10 Aircraft Types Involved in Crashes with Fatalities"
        },
        "xaxis": {
         "anchor": "y",
         "autorange": true,
         "domain": [
          0,
          1
         ],
         "range": [
          0,
          76.84210526315789
         ],
         "title": {
          "text": "Number of Crashes"
         },
         "type": "linear"
        },
        "yaxis": {
         "anchor": "x",
         "autorange": true,
         "domain": [
          0,
          1
         ],
         "range": [
          -0.5,
          9.5
         ],
         "title": {
          "text": "Aircraft Type"
         },
         "type": "category"
        }
       }
      }
     },
     "metadata": {},
     "output_type": "display_data"
    }
   ],
   "source": [
    "# Filter top 10 aircraft by number of crashes\n",
    "top_aircrafts = df['Aircraft'].value_counts().nlargest(10).index\n",
    "top_aircrafts_df = df[df['Aircraft'].isin(top_aircrafts)]\n",
    "\n",
    "# Aggregate total crashes and total fatalities per aircraft\n",
    "agg_data = top_aircrafts_df.groupby('Aircraft').agg(\n",
    "    crash_count=('Aircraft', 'size'),\n",
    "    total_fatalities=('Sum of Fatalities (air)', 'sum')\n",
    ").reset_index()\n",
    "\n",
    "# plot\n",
    "fig = px.bar(\n",
    "    agg_data.sort_values('crash_count'),\n",
    "    x='crash_count',\n",
    "    y='Aircraft',\n",
    "    orientation='h',\n",
    "    title='Top 10 Aircraft Types Involved in Crashes with Fatalities',\n",
    "    template='presentation',\n",
    "    height=600,\n",
    "    hover_data={\n",
    "        'crash_count': True,\n",
    "        'total_fatalities': True\n",
    "    },\n",
    "    labels={\n",
    "        'crash_count': 'Number of Crashes',\n",
    "        'total_fatalities': 'Total Fatalities'\n",
    "    }\n",
    ")\n",
    "\n",
    "fig.update_layout(\n",
    "    yaxis_title='Aircraft Type',\n",
    "    xaxis_title='Number of Crashes',\n",
    ")\n",
    "fig.update_layout(\n",
    "    yaxis_title='Aircraft Type',\n",
    "    xaxis_title='Number of Crashes',\n",
    "    margin=dict(l=280) \n",
    ")\n",
    "\n",
    "fig.show()\n",
    "fig.write_image(os.path.join(result_dir,'Top 10 Aircraft Types Involved in Crashes with Fatalities.jpg'))\n",
    "fig.write_image(os.path.join(result_dir,'Top 10 Aircraft Types Involved in Crashes with Fatalities.png'))\n",
    "fig.write_html(os.path.join(result_dir,'Top 10 Aircraft Types Involved in Crashes with Fatalities.html'))\n"
   ]
  },
  {
   "cell_type": "markdown",
   "id": "533e4939-0902-4195-823e-a6b736405484",
   "metadata": {},
   "source": [
    "The bar chart displays the top 10 aircraft types involved in air crashes, sorted by the number of crash incidents, and includes associated total fatalities for each type.\n",
    "\n",
    "The Boeing B 737 stands out with the highest crash count, reflecting its widespread use globally. While not necessarily the deadliest, its high presence in aviation fleets contributes to its crash count.\n",
    "\n",
    "Other models like the Douglas C 47A and McDonnell Douglas DC 9 also show up prominently, suggesting historical or operational factors that increased their incident exposure.\n",
    "\n",
    "Some aircraft, despite a relatively lower crash count, report higher fatality totals, pointing to either larger passenger capacities or more severe accidents.\n",
    "\n",
    "This visualization provides critical insight into which aircraft types have historically experienced more accidents, and can prompt deeper investigation into causes such as manufacturing era, flight hours, or operational environment."
   ]
  },
  {
   "cell_type": "markdown",
   "id": "c7399c1f-e065-4510-9e2d-91cb8e7f7c86",
   "metadata": {},
   "source": [
    "### Aircraft manufacturers breakdown"
   ]
  },
  {
   "cell_type": "code",
   "execution_count": 124,
   "id": "83e14b51-3d1b-4b18-9139-a5be229bfeaa",
   "metadata": {},
   "outputs": [
    {
     "data": {
      "application/vnd.plotly.v1+json": {
       "config": {
        "plotlyServerURL": "https://plot.ly"
       },
       "data": [
        {
         "customdata": {
          "_inputArray": [
           {
            "0": 6130
           },
           {
            "0": 1984
           },
           {
            "0": 2668
           },
           {
            "0": 7595
           },
           {
            "0": 6044
           },
           {
            "0": 6633
           },
           {
            "0": 2952
           },
           {
            "0": 7844
           },
           {
            "0": 20604
           },
           {
            "0": 16722
           }
          ],
          "bdata": "8hfAB2wKqx2cF+kZiAukHnxQUkE=",
          "dtype": "i2",
          "shape": "10, 1"
         },
         "hovertemplate": "Number of Crashes=%{x}<br>Manufacturer=%{y}<br>Total Fatalities=%{customdata[0]}<extra></extra>",
         "legendgroup": "",
         "marker": {
          "color": "#1F77B4",
          "pattern": {
           "shape": ""
          }
         },
         "name": "",
         "orientation": "h",
         "showlegend": false,
         "textposition": "auto",
         "type": "bar",
         "x": {
          "_inputArray": {
           "0": 106,
           "1": 132,
           "2": 132,
           "3": 135,
           "4": 148,
           "5": 288,
           "6": 295,
           "7": 329,
           "8": 407,
           "9": 995,
           "bdata": "agCEAIQAhwCUACABJwFJAZcB4wM=",
           "dtype": "i2",
           "shape": "10"
          },
          "bdata": "agCEAIQAhwCUACABJwFJAZcB4wM=",
          "dtype": "i2"
         },
         "xaxis": "x",
         "y": [
          "Tupolev",
          "Curtiss",
          "Fokker",
          "McDonnell Douglas",
          "Ilyushin",
          "Antonov",
          "De Havilland",
          "Lockheed",
          "Boeing",
          "Douglas"
         ],
         "yaxis": "y"
        }
       ],
       "layout": {
        "autosize": true,
        "barmode": "relative",
        "legend": {
         "tracegroupgap": 0
        },
        "margin": {
         "l": 220
        },
        "template": {
         "data": {
          "pie": [
           {
            "automargin": true,
            "type": "pie"
           }
          ],
          "scatter": [
           {
            "line": {
             "width": 3
            },
            "marker": {
             "size": 9
            },
            "type": "scatter"
           }
          ],
          "scatter3d": [
           {
            "line": {
             "width": 3
            },
            "marker": {
             "size": 9
            },
            "type": "scatter3d"
           }
          ],
          "scattergeo": [
           {
            "line": {
             "width": 3
            },
            "marker": {
             "size": 9
            },
            "type": "scattergeo"
           }
          ],
          "scattergl": [
           {
            "line": {
             "width": 3
            },
            "marker": {
             "size": 9
            },
            "type": "scattergl"
           }
          ],
          "scatterpolar": [
           {
            "line": {
             "width": 3
            },
            "marker": {
             "size": 9
            },
            "type": "scatterpolar"
           }
          ],
          "scatterpolargl": [
           {
            "line": {
             "width": 3
            },
            "marker": {
             "size": 9
            },
            "type": "scatterpolargl"
           }
          ],
          "scatterternary": [
           {
            "line": {
             "width": 3
            },
            "marker": {
             "size": 9
            },
            "type": "scatterternary"
           }
          ],
          "table": [
           {
            "cells": {
             "height": 30
            },
            "header": {
             "height": 36
            },
            "type": "table"
           }
          ]
         },
         "layout": {
          "font": {
           "size": 18
          },
          "xaxis": {
           "title": {
            "standoff": 15
           }
          },
          "yaxis": {
           "title": {
            "standoff": 15
           }
          }
         }
        },
        "title": {
         "text": "Top 10 Aircraft Manufacturers by Number of Crashes"
        },
        "xaxis": {
         "anchor": "y",
         "autorange": true,
         "domain": [
          0,
          1
         ],
         "range": [
          0,
          1047.3684210526317
         ],
         "title": {
          "text": "Number of Crashes"
         },
         "type": "linear"
        },
        "yaxis": {
         "anchor": "x",
         "autorange": true,
         "domain": [
          0,
          1
         ],
         "range": [
          -0.5,
          9.5
         ],
         "title": {
          "text": "Manufacturer"
         },
         "type": "category"
        }
       }
      }
     },
     "metadata": {},
     "output_type": "display_data"
    }
   ],
   "source": [
    "\n",
    "top_makers = df['Aircraft Manufacturer'].value_counts().nlargest(10).index\n",
    "\n",
    "top_makers_df = df[df['Aircraft Manufacturer'].isin(top_makers)]\n",
    "agg_manufacturer = top_makers_df.groupby('Aircraft Manufacturer').agg(\n",
    "    crash_count=('Aircraft Manufacturer', 'size'),\n",
    "    total_fatalities=('Sum of Fatalities (air)', 'sum')\n",
    ").reset_index()\n",
    "\n",
    "\n",
    "fig = px.bar(\n",
    "    agg_manufacturer.sort_values('crash_count'),\n",
    "    x='crash_count',\n",
    "    y='Aircraft Manufacturer',\n",
    "    orientation='h',\n",
    "    title='Top 10 Aircraft Manufacturers by Number of Crashes',\n",
    "    template='presentation',\n",
    "    height=600,\n",
    "    hover_data={\n",
    "        'crash_count': True,\n",
    "        'total_fatalities': True\n",
    "    },\n",
    "    labels={\n",
    "        'crash_count': 'Number of Crashes',\n",
    "        'total_fatalities': 'Total Fatalities',\n",
    "        'Aircraft Manufacturer': 'Manufacturer'\n",
    "    }\n",
    ")\n",
    "\n",
    "\n",
    "fig.update_layout(\n",
    "    yaxis_title='Manufacturer',\n",
    "    xaxis_title='Number of Crashes',\n",
    "    margin=dict(l=220) \n",
    ")\n",
    "\n",
    "fig.show()\n",
    "fig.write_image(os.path.join(result_dir,'Top 10 Aircraft Manufacturers by Number of Crashes.jpg'))\n",
    "fig.write_image(os.path.join(result_dir,'Top 10 Aircraft Manufacturers by Number of Crashes.png'))\n",
    "fig.write_html(os.path.join(result_dir,'Top 10 Aircraft Manufacturers by Number of Crashes.html'))\n"
   ]
  },
  {
   "cell_type": "markdown",
   "id": "57196820-8e7e-4ee7-b1d2-04055bae791b",
   "metadata": {},
   "source": [
    "The horizontal bar chart highlights the top 10 aircraft manufacturers based on the number of recorded crashes, along with their associated fatalities.\n",
    "\n",
    "Douglas appears as the leading manufacturer in crash frequency, likely due to its long operational history and extensive fleet usage over the decades.\n",
    "\n",
    "Boeing, while known for its global commercial dominance, also registers a high number of incidents a reflection of its large-scale deployment rather than design flaws.\n",
    "\n",
    "Manufacturers like Lockheed and De Havilland also feature prominently, indicating significant usage, especially in earlier aviation eras.\n",
    "\n",
    "Some manufacturers with fewer aircraft types involved still record notably high fatalities, suggesting larger aircraft or more severe accidents tied to those specific models.\n",
    "\n",
    "The inclusion of historical manufacturers like Antonov and McDonnell Douglas also emphasizes how legacy fleets contribute to cumulative crash statistics."
   ]
  },
  {
   "cell_type": "markdown",
   "id": "3f319eef-c5c0-4a9f-942e-764886c8424a",
   "metadata": {},
   "source": [
    "### Fatalities vs Aircraft Types (Top 10 by Fatalities)"
   ]
  },
  {
   "cell_type": "code",
   "execution_count": 125,
   "id": "2d257242-6644-49a0-b9a8-44754bfc9ea4",
   "metadata": {},
   "outputs": [
    {
     "data": {
      "application/vnd.plotly.v1+json": {
       "config": {
        "plotlyServerURL": "https://plot.ly"
       },
       "data": [
        {
         "customdata": {
          "_inputArray": [
           {
            "0": 6
           },
           {
            "0": 9
           },
           {
            "0": 6
           },
           {
            "0": 36
           },
           {
            "0": 16
           },
           {
            "0": 42
           },
           {
            "0": 51
           },
           {
            "0": 31
           },
           {
            "0": 73
           },
           {
            "0": 57
           }
          ],
          "bdata": "BgkGJBAqMx9JOQ==",
          "dtype": "i1",
          "shape": "10, 1"
         },
         "hovertemplate": "Total Fatalities=%{x}<br>Aircraft Type=%{y}<br>Number of Crashes=%{customdata[0]}<extra></extra>",
         "legendgroup": "",
         "marker": {
          "color": "#1F77B4",
          "pattern": {
           "shape": ""
          }
         },
         "name": "",
         "orientation": "h",
         "showlegend": false,
         "textposition": "auto",
         "type": "bar",
         "x": {
          "_inputArray": {
           "0": 660,
           "1": 693,
           "2": 760,
           "3": 1388,
           "4": 1435,
           "5": 1891,
           "6": 2871,
           "7": 3768,
           "8": 3994,
           "9": 4219,
           "bdata": "lAK1AvgCbAWbBWMHNwu4DpoPexA=",
           "dtype": "i2",
           "shape": "10"
          },
          "bdata": "lAK1AvgCbAWbBWMHNwu4DpoPexA=",
          "dtype": "i2"
         },
         "xaxis": "x",
         "y": [
          "Tupolev TU 154MRA",
          "Ilyushin IL 18BCCCP",
          "Boeing B 767",
          "McDonnell Douglas DC 8",
          "McDonnell Douglas DC 10",
          "McDonnell Douglas DC 9",
          "Boeing B 707",
          "Boeing B 747",
          "Boeing B 737",
          "Boeing B 727"
         ],
         "yaxis": "y"
        }
       ],
       "layout": {
        "autosize": true,
        "barmode": "relative",
        "legend": {
         "tracegroupgap": 0
        },
        "margin": {
         "l": 280
        },
        "template": {
         "data": {
          "pie": [
           {
            "automargin": true,
            "type": "pie"
           }
          ],
          "scatter": [
           {
            "line": {
             "width": 3
            },
            "marker": {
             "size": 9
            },
            "type": "scatter"
           }
          ],
          "scatter3d": [
           {
            "line": {
             "width": 3
            },
            "marker": {
             "size": 9
            },
            "type": "scatter3d"
           }
          ],
          "scattergeo": [
           {
            "line": {
             "width": 3
            },
            "marker": {
             "size": 9
            },
            "type": "scattergeo"
           }
          ],
          "scattergl": [
           {
            "line": {
             "width": 3
            },
            "marker": {
             "size": 9
            },
            "type": "scattergl"
           }
          ],
          "scatterpolar": [
           {
            "line": {
             "width": 3
            },
            "marker": {
             "size": 9
            },
            "type": "scatterpolar"
           }
          ],
          "scatterpolargl": [
           {
            "line": {
             "width": 3
            },
            "marker": {
             "size": 9
            },
            "type": "scatterpolargl"
           }
          ],
          "scatterternary": [
           {
            "line": {
             "width": 3
            },
            "marker": {
             "size": 9
            },
            "type": "scatterternary"
           }
          ],
          "table": [
           {
            "cells": {
             "height": 30
            },
            "header": {
             "height": 36
            },
            "type": "table"
           }
          ]
         },
         "layout": {
          "font": {
           "size": 18
          },
          "xaxis": {
           "title": {
            "standoff": 15
           }
          },
          "yaxis": {
           "title": {
            "standoff": 15
           }
          }
         }
        },
        "title": {
         "text": "Top 10 Aircraft Types by Total Fatalities"
        },
        "xaxis": {
         "anchor": "y",
         "autorange": true,
         "domain": [
          0,
          1
         ],
         "range": [
          0,
          4441.0526315789475
         ],
         "title": {
          "text": "Total Fatalities"
         },
         "type": "linear"
        },
        "yaxis": {
         "anchor": "x",
         "autorange": true,
         "domain": [
          0,
          1
         ],
         "range": [
          -0.5,
          9.5
         ],
         "title": {
          "text": "Aircraft Type"
         },
         "type": "category"
        }
       }
      }
     },
     "metadata": {},
     "output_type": "display_data"
    }
   ],
   "source": [
    "fatalities_by_aircraft = df.groupby('Aircraft').agg(\n",
    "    total_fatalities=('Sum of Fatalities (air)', 'sum'),\n",
    "    crash_count=('Aircraft', 'size')\n",
    ").reset_index()\n",
    "\n",
    "\n",
    "top_fatal_aircraft = fatalities_by_aircraft.nlargest(10, 'total_fatalities')\n",
    "\n",
    "\n",
    "fig = px.bar(\n",
    "    top_fatal_aircraft.sort_values('total_fatalities'),\n",
    "    x='total_fatalities',\n",
    "    y='Aircraft',\n",
    "    orientation='h',\n",
    "    title='Top 10 Aircraft Types by Total Fatalities',\n",
    "    template='presentation',\n",
    "    height=600,\n",
    "    hover_data={\n",
    "        'crash_count': True,\n",
    "        'total_fatalities': True\n",
    "    },\n",
    "    labels={\n",
    "        'total_fatalities': 'Total Fatalities',\n",
    "        'crash_count': 'Number of Crashes',\n",
    "        'Aircraft': 'Aircraft Type'\n",
    "    }\n",
    ")\n",
    "\n",
    "\n",
    "fig.update_layout(\n",
    "    yaxis_title='Aircraft Type',\n",
    "    xaxis_title='Total Fatalities',\n",
    "    margin=dict(l=280)\n",
    ")\n",
    "\n",
    "fig.show()\n",
    "fig.write_image(os.path.join(result_dir,'Top 10 Aircraft Types by Total Fatalities.jpg'))\n",
    "fig.write_image(os.path.join(result_dir,'Top 10 Aircraft Types by Total Fatalities.png'))\n",
    "fig.write_html(os.path.join(result_dir,'Top 10 Aircraft Types by Total Fatalities.html'))"
   ]
  },
  {
   "cell_type": "markdown",
   "id": "025fe18b-cd14-4b80-ac0e-06ec4a18ead7",
   "metadata": {},
   "source": [
    "This bar chart displays the aircraft types associated with the highest total fatalities across recorded crash events.\n",
    "\n",
    "Aircraft like the Douglas DC-3 and Boeing 727 dominate the list, reflecting both their widespread historical use and involvement in high-fatality incidents.\n",
    "\n",
    "These aircraft models often served on busy commercial or military routes, which may explain the elevated death tolls when crashes occurred.\n",
    "\n",
    "While some of these types may not lead in total crash counts, their average fatality per crash is significant  pointing to the severity or scale of the accidents in which they were involved.\n",
    "\n",
    "The presence of legacy aircraft highlights the evolution of aviation safety, as older designs may have lacked the advanced technologies and structural reinforcements of modern jets.\n",
    "\n",
    "This visualization underscores the importance of not only examining crash frequency, but also considering fatality impact, especially for aircraft involved in historically catastrophic accidents.\n",
    "\n",
    "By focusing on fatality totals, this analysis brings attention to which aircraft types had the most devastating outcomes, offering insights for historical safety reviews and future aviation risk assessments."
   ]
  },
  {
   "cell_type": "markdown",
   "id": "b3cb3e7d-744f-4d9a-977b-0dd983dbb24c",
   "metadata": {},
   "source": []
  },
  {
   "cell_type": "code",
   "execution_count": 126,
   "id": "aed702eb-0e1f-4f88-b986-f9b306c953d9",
   "metadata": {},
   "outputs": [
    {
     "data": {
      "application/vnd.plotly.v1+json": {
       "config": {
        "plotlyServerURL": "https://plot.ly"
       },
       "data": [
        {
         "hovertemplate": "Month=%{x}<br>Crash Count=%{y}<extra></extra>",
         "legendgroup": "",
         "marker": {
          "color": "#1F77B4",
          "pattern": {
           "shape": ""
          }
         },
         "name": "",
         "orientation": "v",
         "showlegend": false,
         "textposition": "auto",
         "type": "bar",
         "x": [
          "December",
          "January",
          "September",
          "August",
          "November",
          "July",
          "October",
          "March",
          "June",
          "February",
          "May",
          "April"
         ],
         "xaxis": "x",
         "y": {
          "_inputArray": {
           "0": 497,
           "1": 464,
           "10": 360,
           "11": 349,
           "2": 453,
           "3": 452,
           "4": 443,
           "5": 428,
           "6": 428,
           "7": 427,
           "8": 367,
           "9": 362,
           "bdata": "8QHQAcUBxAG7AawBrAGrAW8BagFoAV0B",
           "dtype": "i2",
           "shape": "12"
          },
          "bdata": "8QHQAcUBxAG7AawBrAGrAW8BagFoAV0B",
          "dtype": "i2"
         },
         "yaxis": "y"
        }
       ],
       "layout": {
        "autosize": true,
        "barmode": "relative",
        "legend": {
         "tracegroupgap": 0
        },
        "template": {
         "data": {
          "pie": [
           {
            "automargin": true,
            "type": "pie"
           }
          ],
          "scatter": [
           {
            "line": {
             "width": 3
            },
            "marker": {
             "size": 9
            },
            "type": "scatter"
           }
          ],
          "scatter3d": [
           {
            "line": {
             "width": 3
            },
            "marker": {
             "size": 9
            },
            "type": "scatter3d"
           }
          ],
          "scattergeo": [
           {
            "line": {
             "width": 3
            },
            "marker": {
             "size": 9
            },
            "type": "scattergeo"
           }
          ],
          "scattergl": [
           {
            "line": {
             "width": 3
            },
            "marker": {
             "size": 9
            },
            "type": "scattergl"
           }
          ],
          "scatterpolar": [
           {
            "line": {
             "width": 3
            },
            "marker": {
             "size": 9
            },
            "type": "scatterpolar"
           }
          ],
          "scatterpolargl": [
           {
            "line": {
             "width": 3
            },
            "marker": {
             "size": 9
            },
            "type": "scatterpolargl"
           }
          ],
          "scatterternary": [
           {
            "line": {
             "width": 3
            },
            "marker": {
             "size": 9
            },
            "type": "scatterternary"
           }
          ],
          "table": [
           {
            "cells": {
             "height": 30
            },
            "header": {
             "height": 36
            },
            "type": "table"
           }
          ]
         },
         "layout": {
          "font": {
           "size": 18
          },
          "xaxis": {
           "title": {
            "standoff": 15
           }
          },
          "yaxis": {
           "title": {
            "standoff": 15
           }
          }
         }
        },
        "title": {
         "text": "Air Crashes Distribution by Month "
        },
        "xaxis": {
         "anchor": "y",
         "autorange": true,
         "categoryarray": [
          "December",
          "January",
          "September",
          "August",
          "November",
          "July",
          "October",
          "March",
          "June",
          "February",
          "May",
          "April"
         ],
         "categoryorder": "array",
         "domain": [
          0,
          1
         ],
         "range": [
          -0.5,
          11.5
         ],
         "title": {
          "text": "Month"
         },
         "type": "category"
        },
        "yaxis": {
         "anchor": "x",
         "autorange": true,
         "domain": [
          0,
          1
         ],
         "range": [
          0,
          523.1578947368421
         ],
         "title": {
          "text": "Number of Crashes"
         },
         "type": "linear"
        }
       }
      },
      "image/png": "[encoded data removed]"
     },
     "metadata": {},
     "output_type": "display_data"
    }
   ],
   "source": [
    "import calendar\n",
    "import plotly.express as px\n",
    "import os\n",
    "\n",
    "# Count crashes per month number\n",
    "crashes_by_month = df['Month_num'].value_counts().reset_index()\n",
    "crashes_by_month.columns = ['Month_num', 'Crash Count']\n",
    "\n",
    "# Add month name column\n",
    "crashes_by_month['Month'] = crashes_by_month['Month_num'].apply(\n",
    "    lambda x: calendar.month_name[int(x)] if x != 0 else 'Unknown'\n",
    ")\n",
    "\n",
    "# Sort by Crash Count descending\n",
    "crashes_by_month = crashes_by_month.sort_values('Crash Count', ascending=False)\n",
    "\n",
    "# Create bar chart with months ordered by descending crash count\n",
    "fig = px.bar(\n",
    "    crashes_by_month,\n",
    "    x='Month',\n",
    "    y='Crash Count',\n",
    "    title='Air Crashes Distribution by Month ',\n",
    "    template='presentation',\n",
    "    height=500,\n",
    "    category_orders={'Month': crashes_by_month['Month'].tolist()}  # order by crash count descending\n",
    ")\n",
    "\n",
    "fig.update_layout(\n",
    "    xaxis_title='Month',\n",
    "    yaxis_title='Number of Crashes'\n",
    ")\n",
    "\n",
    "fig.show()\n",
    "\n",
    "# Save files\n",
    "fig.write_image(os.path.join(result_dir, 'Air Crashes Distribution by Month Descending.jpg'))\n",
    "fig.write_image(os.path.join(result_dir, 'Air Crashes Distribution by Month Descending.png'))\n",
    "fig.write_html(os.path.join(result_dir, 'Air Crashes Distribution by Month Descending.html'))"
   ]
  },
  {
   "cell_type": "markdown",
   "id": "24441211-416a-4a86-8822-cc88aa7ecfcf",
   "metadata": {},
   "source": [
    "This bar chart visualizes the distribution of air crashes across the months of the year, ordered by the number of crashes from highest to lowest. Instead of following the calendar sequence, the months are arranged so that the month with the most air crashes appears first on the left, descending to the month with the fewest crashes on the right.\n",
    "\n",
    "From this visualization, we can quickly identify which months experienced the highest frequency of air crashes. This order helps highlight peak periods of air crash incidents, making it easier to analyze any seasonal trends or external factors influencing crash occurrences.\n",
    "\n",
    "Understanding these peaks is crucial for improving aviation safety measures, allocating resources for risk management, and planning preventative actions during high-risk periods."
   ]
  },
  {
   "cell_type": "code",
   "execution_count": null,
   "id": "17bb3f6a-f4c2-465c-b32f-45e1ce0741f5",
   "metadata": {},
   "outputs": [],
   "source": []
  }
 ],
 "metadata": {
  "kernelspec": {
   "display_name": "Python 3 (ipykernel)",
   "language": "python",
   "name": "python3"
  },
  "language_info": {
   "codemirror_mode": {
    "name": "ipython",
    "version": 3
   },
   "file_extension": ".py",
   "mimetype": "text/x-python",
   "name": "python",
   "nbconvert_exporter": "python",
   "pygments_lexer": "ipython3",
   "version": "3.12.7"
  }
 },
 "nbformat": 4,
 "nbformat_minor": 5
}
