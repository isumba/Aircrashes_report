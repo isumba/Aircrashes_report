{
 "cells": [
  {
   "cell_type": "code",
   "execution_count": 7,
   "id": "2fb803e7-f73b-4d32-b658-47e514e8fe70",
   "metadata": {},
   "outputs": [],
   "source": [
    "# Import Libararies\n",
    "import pandas as pd\n",
    "import numpy as np\n",
    "import os\n",
    "import plotly.express as px"
   ]
  },
  {
   "cell_type": "code",
   "execution_count": 5,
   "id": "0798f762-0429-478c-ae6c-28a4aba1f455",
   "metadata": {},
   "outputs": [
    {
     "data": {
      "text/plain": [
       "'C:\\\\Users\\\\user\\\\Documents\\\\Tekher\\\\Aircrashes'"
      ]
     },
     "execution_count": 5,
     "metadata": {},
     "output_type": "execute_result"
    }
   ],
   "source": [
    "pwd"
   ]
  },
  {
   "cell_type": "code",
   "execution_count": 10,
   "id": "69339ebf-d2c8-4ae4-87b2-08719dbbee52",
   "metadata": {},
   "outputs": [],
   "source": [
    "# Get working directory\n",
    "current_dir= os.getcwd()\n",
    "# Go one directory up to the root directory\n",
    "project_root_dir= os.path.dirname(current_dir)\n",
    "project_root_dir\n",
    "# Define paths to docs folder\n",
    "data_dir= os.path.join(project_root_dir,'Data')\n",
    "raw_dir= os.path.join(data_dir,'Raw')\n",
    "processed_dir=os.path.join(data_dir,'Processed')\n",
    "results_dir=os.path.join(project_root_dir,'Results')\n",
    "docs_dir=os.path.join(project_root_dir,'Docs')\n",
    "notebook_dir= os.path.join(project_root_dir,'Notebooks')"
   ]
  },
  {
   "cell_type": "code",
   "execution_count": 13,
   "id": "d757dbeb-63be-40f0-95c2-6305dcf19e43",
   "metadata": {},
   "outputs": [
    {
     "ename": "FileNotFoundError",
     "evalue": "[Errno 2] No such file or directory: 'C:\\\\Users\\\\user\\\\Notebooks\\\\Aircrash_file.csv'",
     "output_type": "error",
     "traceback": [
      "\u001b[1;31m---------------------------------------------------------------------------\u001b[0m",
      "\u001b[1;31mFileNotFoundError\u001b[0m                         Traceback (most recent call last)",
      "Cell \u001b[1;32mIn[13], line 2\u001b[0m\n\u001b[0;32m      1\u001b[0m aircrash_data_filename\u001b[38;5;241m=\u001b[39m os\u001b[38;5;241m.\u001b[39mpath\u001b[38;5;241m.\u001b[39mjoin(notebook_dir,\u001b[38;5;124m\"\u001b[39m\u001b[38;5;124mAircrash_file.csv\u001b[39m\u001b[38;5;124m\"\u001b[39m)\n\u001b[1;32m----> 2\u001b[0m df\u001b[38;5;241m=\u001b[39m pd\u001b[38;5;241m.\u001b[39mread_csv(aircrash_data_filename, na_values\u001b[38;5;241m=\u001b[39m\u001b[38;5;124m'\u001b[39m\u001b[38;5;124m?\u001b[39m\u001b[38;5;124m'\u001b[39m, skipinitialspace\u001b[38;5;241m=\u001b[39m\u001b[38;5;28;01mTrue\u001b[39;00m)\n\u001b[0;32m      3\u001b[0m df\u001b[38;5;241m.\u001b[39mhead()\n",
      "File \u001b[1;32m~\\anaconda3\\Lib\\site-packages\\pandas\\io\\parsers\\readers.py:1026\u001b[0m, in \u001b[0;36mread_csv\u001b[1;34m(filepath_or_buffer, sep, delimiter, header, names, index_col, usecols, dtype, engine, converters, true_values, false_values, skipinitialspace, skiprows, skipfooter, nrows, na_values, keep_default_na, na_filter, verbose, skip_blank_lines, parse_dates, infer_datetime_format, keep_date_col, date_parser, date_format, dayfirst, cache_dates, iterator, chunksize, compression, thousands, decimal, lineterminator, quotechar, quoting, doublequote, escapechar, comment, encoding, encoding_errors, dialect, on_bad_lines, delim_whitespace, low_memory, memory_map, float_precision, storage_options, dtype_backend)\u001b[0m\n\u001b[0;32m   1013\u001b[0m kwds_defaults \u001b[38;5;241m=\u001b[39m _refine_defaults_read(\n\u001b[0;32m   1014\u001b[0m     dialect,\n\u001b[0;32m   1015\u001b[0m     delimiter,\n\u001b[1;32m   (...)\u001b[0m\n\u001b[0;32m   1022\u001b[0m     dtype_backend\u001b[38;5;241m=\u001b[39mdtype_backend,\n\u001b[0;32m   1023\u001b[0m )\n\u001b[0;32m   1024\u001b[0m kwds\u001b[38;5;241m.\u001b[39mupdate(kwds_defaults)\n\u001b[1;32m-> 1026\u001b[0m \u001b[38;5;28;01mreturn\u001b[39;00m _read(filepath_or_buffer, kwds)\n",
      "File \u001b[1;32m~\\anaconda3\\Lib\\site-packages\\pandas\\io\\parsers\\readers.py:620\u001b[0m, in \u001b[0;36m_read\u001b[1;34m(filepath_or_buffer, kwds)\u001b[0m\n\u001b[0;32m    617\u001b[0m _validate_names(kwds\u001b[38;5;241m.\u001b[39mget(\u001b[38;5;124m\"\u001b[39m\u001b[38;5;124mnames\u001b[39m\u001b[38;5;124m\"\u001b[39m, \u001b[38;5;28;01mNone\u001b[39;00m))\n\u001b[0;32m    619\u001b[0m \u001b[38;5;66;03m# Create the parser.\u001b[39;00m\n\u001b[1;32m--> 620\u001b[0m parser \u001b[38;5;241m=\u001b[39m TextFileReader(filepath_or_buffer, \u001b[38;5;241m*\u001b[39m\u001b[38;5;241m*\u001b[39mkwds)\n\u001b[0;32m    622\u001b[0m \u001b[38;5;28;01mif\u001b[39;00m chunksize \u001b[38;5;129;01mor\u001b[39;00m iterator:\n\u001b[0;32m    623\u001b[0m     \u001b[38;5;28;01mreturn\u001b[39;00m parser\n",
      "File \u001b[1;32m~\\anaconda3\\Lib\\site-packages\\pandas\\io\\parsers\\readers.py:1620\u001b[0m, in \u001b[0;36mTextFileReader.__init__\u001b[1;34m(self, f, engine, **kwds)\u001b[0m\n\u001b[0;32m   1617\u001b[0m     \u001b[38;5;28mself\u001b[39m\u001b[38;5;241m.\u001b[39moptions[\u001b[38;5;124m\"\u001b[39m\u001b[38;5;124mhas_index_names\u001b[39m\u001b[38;5;124m\"\u001b[39m] \u001b[38;5;241m=\u001b[39m kwds[\u001b[38;5;124m\"\u001b[39m\u001b[38;5;124mhas_index_names\u001b[39m\u001b[38;5;124m\"\u001b[39m]\n\u001b[0;32m   1619\u001b[0m \u001b[38;5;28mself\u001b[39m\u001b[38;5;241m.\u001b[39mhandles: IOHandles \u001b[38;5;241m|\u001b[39m \u001b[38;5;28;01mNone\u001b[39;00m \u001b[38;5;241m=\u001b[39m \u001b[38;5;28;01mNone\u001b[39;00m\n\u001b[1;32m-> 1620\u001b[0m \u001b[38;5;28mself\u001b[39m\u001b[38;5;241m.\u001b[39m_engine \u001b[38;5;241m=\u001b[39m \u001b[38;5;28mself\u001b[39m\u001b[38;5;241m.\u001b[39m_make_engine(f, \u001b[38;5;28mself\u001b[39m\u001b[38;5;241m.\u001b[39mengine)\n",
      "File \u001b[1;32m~\\anaconda3\\Lib\\site-packages\\pandas\\io\\parsers\\readers.py:1880\u001b[0m, in \u001b[0;36mTextFileReader._make_engine\u001b[1;34m(self, f, engine)\u001b[0m\n\u001b[0;32m   1878\u001b[0m     \u001b[38;5;28;01mif\u001b[39;00m \u001b[38;5;124m\"\u001b[39m\u001b[38;5;124mb\u001b[39m\u001b[38;5;124m\"\u001b[39m \u001b[38;5;129;01mnot\u001b[39;00m \u001b[38;5;129;01min\u001b[39;00m mode:\n\u001b[0;32m   1879\u001b[0m         mode \u001b[38;5;241m+\u001b[39m\u001b[38;5;241m=\u001b[39m \u001b[38;5;124m\"\u001b[39m\u001b[38;5;124mb\u001b[39m\u001b[38;5;124m\"\u001b[39m\n\u001b[1;32m-> 1880\u001b[0m \u001b[38;5;28mself\u001b[39m\u001b[38;5;241m.\u001b[39mhandles \u001b[38;5;241m=\u001b[39m get_handle(\n\u001b[0;32m   1881\u001b[0m     f,\n\u001b[0;32m   1882\u001b[0m     mode,\n\u001b[0;32m   1883\u001b[0m     encoding\u001b[38;5;241m=\u001b[39m\u001b[38;5;28mself\u001b[39m\u001b[38;5;241m.\u001b[39moptions\u001b[38;5;241m.\u001b[39mget(\u001b[38;5;124m\"\u001b[39m\u001b[38;5;124mencoding\u001b[39m\u001b[38;5;124m\"\u001b[39m, \u001b[38;5;28;01mNone\u001b[39;00m),\n\u001b[0;32m   1884\u001b[0m     compression\u001b[38;5;241m=\u001b[39m\u001b[38;5;28mself\u001b[39m\u001b[38;5;241m.\u001b[39moptions\u001b[38;5;241m.\u001b[39mget(\u001b[38;5;124m\"\u001b[39m\u001b[38;5;124mcompression\u001b[39m\u001b[38;5;124m\"\u001b[39m, \u001b[38;5;28;01mNone\u001b[39;00m),\n\u001b[0;32m   1885\u001b[0m     memory_map\u001b[38;5;241m=\u001b[39m\u001b[38;5;28mself\u001b[39m\u001b[38;5;241m.\u001b[39moptions\u001b[38;5;241m.\u001b[39mget(\u001b[38;5;124m\"\u001b[39m\u001b[38;5;124mmemory_map\u001b[39m\u001b[38;5;124m\"\u001b[39m, \u001b[38;5;28;01mFalse\u001b[39;00m),\n\u001b[0;32m   1886\u001b[0m     is_text\u001b[38;5;241m=\u001b[39mis_text,\n\u001b[0;32m   1887\u001b[0m     errors\u001b[38;5;241m=\u001b[39m\u001b[38;5;28mself\u001b[39m\u001b[38;5;241m.\u001b[39moptions\u001b[38;5;241m.\u001b[39mget(\u001b[38;5;124m\"\u001b[39m\u001b[38;5;124mencoding_errors\u001b[39m\u001b[38;5;124m\"\u001b[39m, \u001b[38;5;124m\"\u001b[39m\u001b[38;5;124mstrict\u001b[39m\u001b[38;5;124m\"\u001b[39m),\n\u001b[0;32m   1888\u001b[0m     storage_options\u001b[38;5;241m=\u001b[39m\u001b[38;5;28mself\u001b[39m\u001b[38;5;241m.\u001b[39moptions\u001b[38;5;241m.\u001b[39mget(\u001b[38;5;124m\"\u001b[39m\u001b[38;5;124mstorage_options\u001b[39m\u001b[38;5;124m\"\u001b[39m, \u001b[38;5;28;01mNone\u001b[39;00m),\n\u001b[0;32m   1889\u001b[0m )\n\u001b[0;32m   1890\u001b[0m \u001b[38;5;28;01massert\u001b[39;00m \u001b[38;5;28mself\u001b[39m\u001b[38;5;241m.\u001b[39mhandles \u001b[38;5;129;01mis\u001b[39;00m \u001b[38;5;129;01mnot\u001b[39;00m \u001b[38;5;28;01mNone\u001b[39;00m\n\u001b[0;32m   1891\u001b[0m f \u001b[38;5;241m=\u001b[39m \u001b[38;5;28mself\u001b[39m\u001b[38;5;241m.\u001b[39mhandles\u001b[38;5;241m.\u001b[39mhandle\n",
      "File \u001b[1;32m~\\anaconda3\\Lib\\site-packages\\pandas\\io\\common.py:873\u001b[0m, in \u001b[0;36mget_handle\u001b[1;34m(path_or_buf, mode, encoding, compression, memory_map, is_text, errors, storage_options)\u001b[0m\n\u001b[0;32m    868\u001b[0m \u001b[38;5;28;01melif\u001b[39;00m \u001b[38;5;28misinstance\u001b[39m(handle, \u001b[38;5;28mstr\u001b[39m):\n\u001b[0;32m    869\u001b[0m     \u001b[38;5;66;03m# Check whether the filename is to be opened in binary mode.\u001b[39;00m\n\u001b[0;32m    870\u001b[0m     \u001b[38;5;66;03m# Binary mode does not support 'encoding' and 'newline'.\u001b[39;00m\n\u001b[0;32m    871\u001b[0m     \u001b[38;5;28;01mif\u001b[39;00m ioargs\u001b[38;5;241m.\u001b[39mencoding \u001b[38;5;129;01mand\u001b[39;00m \u001b[38;5;124m\"\u001b[39m\u001b[38;5;124mb\u001b[39m\u001b[38;5;124m\"\u001b[39m \u001b[38;5;129;01mnot\u001b[39;00m \u001b[38;5;129;01min\u001b[39;00m ioargs\u001b[38;5;241m.\u001b[39mmode:\n\u001b[0;32m    872\u001b[0m         \u001b[38;5;66;03m# Encoding\u001b[39;00m\n\u001b[1;32m--> 873\u001b[0m         handle \u001b[38;5;241m=\u001b[39m \u001b[38;5;28mopen\u001b[39m(\n\u001b[0;32m    874\u001b[0m             handle,\n\u001b[0;32m    875\u001b[0m             ioargs\u001b[38;5;241m.\u001b[39mmode,\n\u001b[0;32m    876\u001b[0m             encoding\u001b[38;5;241m=\u001b[39mioargs\u001b[38;5;241m.\u001b[39mencoding,\n\u001b[0;32m    877\u001b[0m             errors\u001b[38;5;241m=\u001b[39merrors,\n\u001b[0;32m    878\u001b[0m             newline\u001b[38;5;241m=\u001b[39m\u001b[38;5;124m\"\u001b[39m\u001b[38;5;124m\"\u001b[39m,\n\u001b[0;32m    879\u001b[0m         )\n\u001b[0;32m    880\u001b[0m     \u001b[38;5;28;01melse\u001b[39;00m:\n\u001b[0;32m    881\u001b[0m         \u001b[38;5;66;03m# Binary mode\u001b[39;00m\n\u001b[0;32m    882\u001b[0m         handle \u001b[38;5;241m=\u001b[39m \u001b[38;5;28mopen\u001b[39m(handle, ioargs\u001b[38;5;241m.\u001b[39mmode)\n",
      "\u001b[1;31mFileNotFoundError\u001b[0m: [Errno 2] No such file or directory: 'C:\\\\Users\\\\user\\\\Notebooks\\\\Aircrash_file.csv'"
     ]
    }
   ],
   "source": [
    "aircrash_data_filename= os.path.join(notebook_dir,\"Aircrash_file.csv\")\n",
    "df= pd.read_csv(aircrash_data_filename, na_values='?', skipinitialspace=True)\n",
    "df.head()"
   ]
  },
  {
   "cell_type": "code",
   "execution_count": null,
   "id": "5664a5fc-94bc-42fc-ba4a-ae8ab4d2f7e1",
   "metadata": {},
   "outputs": [],
   "source": [
    "df.shape"
   ]
  },
  {
   "cell_type": "code",
   "execution_count": null,
   "id": "2712e23c-1f4a-472f-85db-f3d95ca5eaa5",
   "metadata": {},
   "outputs": [],
   "source": [
    "from plotly.subplots import make_subplots\n",
    "import plotly.graph_objects as go\n",
    "\n",
    "aircrafts = df['Aircraft'].nunique()\n",
    "crashes = len(df)\n",
    "countries = df['Country/Region'].nunique()\n",
    "\n",
    "fig = make_subplots(rows=1, cols=3, specs=[[{'type':'indicator'}]*3])\n",
    "\n",
    "fig.add_trace(go.Indicator(\n",
    "    mode=\"number\",\n",
    "    value=aircrafts,\n",
    "    title={\"text\": \"Unique Aircrafts\"}), row=1, col=1)\n",
    "\n",
    "fig.add_trace(go.Indicator(\n",
    "    mode=\"number\",\n",
    "    value=crashes,\n",
    "    title={\"text\": \"Total Crashes\"}), row=1, col=2)\n",
    "\n",
    "fig.add_trace(go.Indicator(\n",
    "    mode=\"number\",\n",
    "    value=countries,\n",
    "    title={\"text\": \"Countries Involved\"}), row=1, col=3)\n",
    "\n",
    "fig.update_layout(height=300, width=900, template='presentation')\n",
    "fig.show()\n"
   ]
  },
  {
   "cell_type": "markdown",
   "id": "efb57f71-7f03-4559-9165-726d6256cb49",
   "metadata": {},
   "source": [
    "### Crashes over time"
   ]
  },
  {
   "cell_type": "code",
   "execution_count": null,
   "id": "55bb383d-a9e0-438a-ae10-c0b2ccab7f18",
   "metadata": {},
   "outputs": [],
   "source": [
    "def classify_operator(op):\n",
    "    if pd.isna(op) or op.strip().lower() in ['unknown', '', 'nan']:\n",
    "        return 'Unknown'\n",
    "    elif 'military' in op.lower() or 'army' in op.lower() or 'navy' in op.lower():\n",
    "        return 'Military'\n",
    "    else:\n",
    "        return 'Commercial'\n",
    "\n",
    "df['Operator Type'] = df['Operator'].apply(classify_operator)\n",
    "crashes_by_operator = df.groupby(['Year', 'Operator Type']).size().reset_index(name='Total Crashes')\n",
    "\n",
    "fig = px.bar(\n",
    "    crashes_by_operator,\n",
    "    x='Year',\n",
    "    y='Total Crashes',\n",
    "    color='Operator Type',\n",
    "    title='Crashes Over Time by Operator Type (Military vs Commercial vs Unknown)',\n",
    "    template='presentation',\n",
    "    height=600\n",
    ")\n",
    "\n",
    "fig.update_layout(\n",
    "    xaxis=dict(\n",
    "        title='Year',\n",
    "        rangeslider=dict(visible=True),\n",
    "        type='linear'\n",
    "    ),\n",
    "    yaxis_title='Total Crashes',\n",
    "    legend_title='Operator Type'\n",
    ")\n",
    "\n",
    "fig.show()\n"
   ]
  },
  {
   "cell_type": "code",
   "execution_count": null,
   "id": "1f8010d7-6f56-4195-a64b-3fe5a95e7412",
   "metadata": {},
   "outputs": [],
   "source": [
    "df['Operator'].unique()"
   ]
  },
  {
   "cell_type": "markdown",
   "id": "65bd3492-379a-4d95-b79d-ea580b8d8bad",
   "metadata": {},
   "source": [
    "### Top aircraft types involved"
   ]
  },
  {
   "cell_type": "code",
   "execution_count": null,
   "id": "b08207be-2a7a-4d14-8698-4ea3eb8b914c",
   "metadata": {},
   "outputs": [],
   "source": [
    "# Filter top 10 aircraft by number of crashes\n",
    "top_aircrafts = df['Aircraft'].value_counts().nlargest(10).index\n",
    "top_aircrafts_df = df[df['Aircraft'].isin(top_aircrafts)]\n",
    "\n",
    "# Aggregate total crashes and total fatalities per aircraft\n",
    "agg_data = top_aircrafts_df.groupby('Aircraft').agg(\n",
    "    crash_count=('Aircraft', 'size'),\n",
    "    total_fatalities=('Sum of Fatalities (air)', 'sum')\n",
    ").reset_index()\n",
    "\n",
    "# plot\n",
    "fig = px.bar(\n",
    "    agg_data.sort_values('crash_count'),\n",
    "    x='crash_count',\n",
    "    y='Aircraft',\n",
    "    orientation='h',\n",
    "    title='Top 10 Aircraft Types Involved in Crashes with Fatalities',\n",
    "    template='presentation',\n",
    "    height=600,\n",
    "    hover_data={\n",
    "        'crash_count': True,\n",
    "        'total_fatalities': True\n",
    "    },\n",
    "    labels={\n",
    "        'crash_count': 'Number of Crashes',\n",
    "        'total_fatalities': 'Total Fatalities'\n",
    "    }\n",
    ")\n",
    "\n",
    "fig.update_layout(\n",
    "    yaxis_title='Aircraft Type',\n",
    "    xaxis_title='Number of Crashes',\n",
    ")\n",
    "fig.update_layout(\n",
    "    yaxis_title='Aircraft Type',\n",
    "    xaxis_title='Number of Crashes',\n",
    "    margin=dict(l=280) \n",
    ")\n",
    "\n",
    "fig.show()\n"
   ]
  },
  {
   "cell_type": "markdown",
   "id": "c7399c1f-e065-4510-9e2d-91cb8e7f7c86",
   "metadata": {},
   "source": [
    "### Aircraft manufacturers breakdown"
   ]
  },
  {
   "cell_type": "code",
   "execution_count": null,
   "id": "83e14b51-3d1b-4b18-9139-a5be229bfeaa",
   "metadata": {},
   "outputs": [],
   "source": [
    "\n",
    "top_makers = df['Aircraft Manufacturer'].value_counts().nlargest(10).index\n",
    "\n",
    "top_makers_df = df[df['Aircraft Manufacturer'].isin(top_makers)]\n",
    "agg_manufacturer = top_makers_df.groupby('Aircraft Manufacturer').agg(\n",
    "    crash_count=('Aircraft Manufacturer', 'size'),\n",
    "    total_fatalities=('Sum of Fatalities (air)', 'sum')\n",
    ").reset_index()\n",
    "\n",
    "\n",
    "fig = px.bar(\n",
    "    agg_manufacturer.sort_values('crash_count'),\n",
    "    x='crash_count',\n",
    "    y='Aircraft Manufacturer',\n",
    "    orientation='h',\n",
    "    title='Top 10 Aircraft Manufacturers by Number of Crashes',\n",
    "    template='presentation',\n",
    "    height=600,\n",
    "    hover_data={\n",
    "        'crash_count': True,\n",
    "        'total_fatalities': True\n",
    "    },\n",
    "    labels={\n",
    "        'crash_count': 'Number of Crashes',\n",
    "        'total_fatalities': 'Total Fatalities',\n",
    "        'Aircraft Manufacturer': 'Manufacturer'\n",
    "    }\n",
    ")\n",
    "\n",
    "\n",
    "fig.update_layout(\n",
    "    yaxis_title='Manufacturer',\n",
    "    xaxis_title='Number of Crashes',\n",
    "    margin=dict(l=220) \n",
    ")\n",
    "\n",
    "fig.show()\n"
   ]
  },
  {
   "cell_type": "markdown",
   "id": "3f319eef-c5c0-4a9f-942e-764886c8424a",
   "metadata": {},
   "source": [
    "### Fatalities vs Aircraft Types (Top 10 by Fatalities)"
   ]
  },
  {
   "cell_type": "code",
   "execution_count": null,
   "id": "2d257242-6644-49a0-b9a8-44754bfc9ea4",
   "metadata": {},
   "outputs": [],
   "source": [
    "fatalities_by_aircraft = df.groupby('Aircraft').agg(\n",
    "    total_fatalities=('Sum of Fatalities (air)', 'sum'),\n",
    "    crash_count=('Aircraft', 'size')\n",
    ").reset_index()\n",
    "\n",
    "\n",
    "top_fatal_aircraft = fatalities_by_aircraft.nlargest(10, 'total_fatalities')\n",
    "\n",
    "\n",
    "fig = px.bar(\n",
    "    top_fatal_aircraft.sort_values('total_fatalities'),\n",
    "    x='total_fatalities',\n",
    "    y='Aircraft',\n",
    "    orientation='h',\n",
    "    title='Top 10 Aircraft Types by Total Fatalities',\n",
    "    template='presentation',\n",
    "    height=600,\n",
    "    hover_data={\n",
    "        'crash_count': True,\n",
    "        'total_fatalities': True\n",
    "    },\n",
    "    labels={\n",
    "        'total_fatalities': 'Total Fatalities',\n",
    "        'crash_count': 'Number of Crashes',\n",
    "        'Aircraft': 'Aircraft Type'\n",
    "    }\n",
    ")\n",
    "\n",
    "\n",
    "fig.update_layout(\n",
    "    yaxis_title='Aircraft Type',\n",
    "    xaxis_title='Total Fatalities',\n",
    "    margin=dict(l=280)\n",
    ")\n",
    "\n",
    "fig.show()\n"
   ]
  },
  {
   "cell_type": "code",
   "execution_count": null,
   "id": "ae0d2e5e-ea1a-47e1-9482-959330ff78d5",
   "metadata": {},
   "outputs": [],
   "source": []
  }
 ],
 "metadata": {
  "kernelspec": {
   "display_name": "Python 3 (ipykernel)",
   "language": "python",
   "name": "python3"
  },
  "language_info": {
   "codemirror_mode": {
    "name": "ipython",
    "version": 3
   },
   "file_extension": ".py",
   "mimetype": "text/x-python",
   "name": "python",
   "nbconvert_exporter": "python",
   "pygments_lexer": "ipython3",
   "version": "3.12.7"
  }
 },
 "nbformat": 4,
 "nbformat_minor": 5
}
